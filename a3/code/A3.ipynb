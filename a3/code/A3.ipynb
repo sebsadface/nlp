{
  "cells": [
    {
      "cell_type": "markdown",
      "metadata": {
        "id": "rb7i_mMrfv61"
      },
      "source": [
        "# Assignment 3: LM Alignment\n",
        "\n",
        "- Before running the jupyter notebook, don't forget to copy it into your drive **(`File` => `Save a copy in Drive`)**. *Failing to do this step may result in losing the progress of your code.*\n",
        "- **Don't forget to choose \"Runtime Type\" = GPU in Colab for running this notebook (Runtime > Change Runtime Type > T4 GPU).**\n",
        "- For the submission of the assignment, please download this notebook as a **Python file**, named `A3.py`.\n",
        "\n",
        "- There are four sections for this exercise, mapping to the four sections in your A3 instruction file. **You will do the following two tasks as detailed under each section, and we will grade both parts:**\n",
        "  - **Coding Exercises:** You will complete the the code blocks denoted by **`TODO:`**. We will grade your code in this notebook.\n",
        "  - **Questions to Answer:** You will answer questions denoted by **`Q:`** in your write-up."
      ]
    },
    {
      "cell_type": "markdown",
      "metadata": {
        "id": "PGeoZjhXJtck"
      },
      "source": [
        "# Section 1: Setup and Baseline Evaluation\n"
      ]
    },
    {
      "cell_type": "markdown",
      "metadata": {
        "id": "x1mw5a2ESVPd"
      },
      "source": [
        "### 1.0 Preparation"
      ]
    },
    {
      "cell_type": "code",
      "execution_count": null,
      "metadata": {
        "id": "piO2--1aIXHE"
      },
      "outputs": [],
      "source": [
        "! pip install datasets\n",
        "import torch\n",
        "import random\n",
        "from tqdm import tqdm\n",
        "import torch.nn.functional as F\n",
        "from datasets import load_dataset\n",
        "from matplotlib import pyplot as plt\n",
        "from transformers import AutoTokenizer, AutoModelForCausalLM, AutoModelForSequenceClassification\n",
        "from transformers import AdamW, set_seed\n",
        "from typing import Dict, Union, List, Tuple"
      ]
    },
    {
      "cell_type": "markdown",
      "metadata": {
        "id": "jV45VagtUkpx"
      },
      "source": [
        "## **Coding Exercises** for Section 1:\n",
        "**You will complete the following code blocks denoted by `TODO:`.**"
      ]
    },
    {
      "cell_type": "markdown",
      "metadata": {
        "id": "vDfZ_7Dt0uUq"
      },
      "source": [
        "### 1.1 Loading the base model, the reward model, and data"
      ]
    },
    {
      "cell_type": "code",
      "execution_count": null,
      "metadata": {
        "id": "jP3JhBsJKG2a"
      },
      "outputs": [],
      "source": [
        "\"\"\"\n",
        "Load initial model and tokenizer and send it to GPU if available.\n",
        "\n",
        "Since you will be batching and GPT2 is a decoder-only architecture,\n",
        "load your tokenizer with padding_side='left' to ensure\n",
        "that all the <pad> tokens appear before the tokenized text.\n",
        "\n",
        "To avoid warnings, consider setting pad_token to its eos_token.\n",
        "\"\"\"\n",
        "\n",
        "device = torch.device(\"mps\" if torch.backends.mps.is_available() else \"cpu\")\n",
        "print('Device:', device)\n",
        "model_name = 'distilgpt2'\n",
        "\n",
        "# TODO: Load the tokenizer.\n",
        "# Hint: remember to add paddings on the left for the decoder-only model.\n",
        "tokenizer = AutoTokenizer.from_pretrained(model_name, padding_side='left')\n",
        "\n",
        "# TODO: set the pad_token to the eos_token.\n",
        "tokenizer.pad_token = tokenizer.eos_token\n",
        "# TODO: Load the model and sent it to the device.\n",
        "model = AutoModelForCausalLM.from_pretrained(model_name).to(device)\n",
        "\n",
        "model.config.pad_token_id = tokenizer.eos_token_id"
      ]
    },
    {
      "cell_type": "code",
      "execution_count": null,
      "metadata": {
        "id": "4S5ObtUBK6hp"
      },
      "outputs": [],
      "source": [
        "\"\"\"\n",
        "Load the reward model.\n",
        "\"\"\"\n",
        "\n",
        "# TODO: Load reward model and tokenizer from huggingface (use \"omidroshani/imdb-sentiment-analysis\").\n",
        "# Hint: Remember to send the model to the device.\n",
        "reward_tokenizer = AutoTokenizer.from_pretrained(\"omidroshani/imdb-sentiment-analysis\")\n",
        "reward_model = AutoModelForSequenceClassification.from_pretrained(\"omidroshani/imdb-sentiment-analysis\").to(device)"
      ]
    },
    {
      "cell_type": "code",
      "execution_count": null,
      "metadata": {
        "id": "BvSCoKsrK--I"
      },
      "outputs": [],
      "source": [
        "\"\"\"\n",
        "Load data.\n",
        "\"\"\"\n",
        "\n",
        "# TODO: Load IMDB dataset (https://huggingface.co/datasets/imdb) train & test splits.\n",
        "dataset = load_dataset('imdb')\n",
        "train_texts = dataset['train']['text']\n",
        "test_texts = dataset['test']['text']\n",
        "\n",
        "random.seed(42)\n",
        "\n",
        "# TODO: shuffle the samples within every data split.\n",
        "random.shuffle(train_texts)\n",
        "random.shuffle(test_texts)\n"
      ]
    },
    {
      "cell_type": "markdown",
      "metadata": {
        "id": "e3f2aR1gSaaA"
      },
      "source": [
        "### 1.2 Evaluation."
      ]
    },
    {
      "cell_type": "code",
      "execution_count": null,
      "metadata": {
        "id": "PKy4xydGJASt"
      },
      "outputs": [],
      "source": [
        "def compute_reward_for_mini_batch(batch,\n",
        "                                  tokenizer, model,\n",
        "                                  reward_tokenizer, reward_model,\n",
        "                                  seed_token_length=10, max_new_tokens=20):\n",
        "  \"\"\"\n",
        "  Write an evaluation function that for each review in the test set it\n",
        "    1. tokenizes the review.\n",
        "    2. truncates the review to 10 tokens (seed_token_length).\n",
        "    3. Given the truncated seed review, randomly generate 20 more tokens with\n",
        "       the LM so that the final review has a length of 30 tokens.\n",
        "    4. Get the probability of the generated review being positive.\n",
        "\n",
        "  The evaluation function should return the final average rewards and the text generations.\n",
        "  \"\"\"\n",
        "\n",
        "  # TODO: tokenize the review, truncating it to 10 tokens (i.e., seed_token_length).\n",
        "  # Hint: remember to send the encoded text to the device.\n",
        "  input_tokens = tokenizer(batch, truncation=True, max_length=seed_token_length, return_tensors=\"pt\", padding='max_length').to(device)\n",
        "\n",
        "\n",
        "  # TODO: randomly generate 20 more tokens (i.e., max_new_tokens) with the LM so\n",
        "  # that the final review has a length of 30 tokens.\n",
        "  output_tokens = model.generate(input_tokens['input_ids'].to(device), attention_mask=input_tokens['attention_mask'].to(device), max_length=seed_token_length + max_new_tokens, pad_token_id=tokenizer.eos_token_id)\n",
        "\n",
        "\n",
        "\n",
        "  # TODO: decode the generated texts and store them in a list.\n",
        "  generated = [tokenizer.decode(output, skip_special_tokens=True).replace('\\n', ' ').strip() for output in output_tokens]\n",
        "\n",
        "  # TODO: get the probability of the generated review being positive.\n",
        "  # Hint: you will need to encode the generated text, feed it through the reward model,\n",
        "  # and get the probablity of the output scores.\n",
        "  encoded = reward_tokenizer(generated, return_tensors=\"pt\", padding=True, truncation=True)\n",
        "  output = reward_model(input_ids=encoded['input_ids'].to(device), attention_mask=encoded['attention_mask'].to(device))\n",
        "  probs = F.softmax(output.logits, dim=-1)\n",
        "  reward = probs[:, 1]\n",
        "\n",
        "  return reward, output_tokens, generated\n",
        "\n",
        "\n",
        "def evaluate(tokenizer, model, reward_tokenizer, reward_model, batch_size=32):\n",
        "  \"\"\"\n",
        "  Code an evaluation loop that simultaneously evaluates a mini-batch\n",
        "  of size batch_size. Use the helper function compute_reward_for_mini_batch().\n",
        "  \"\"\"\n",
        "  set_seed(42)\n",
        "  with torch.no_grad():\n",
        "    test_batches = len(test_texts) // batch_size\n",
        "\n",
        "    # Evaluate the whole dataset by looping through\n",
        "    # mini-batch reward computations and accumulate total_reward.\n",
        "    total_reward = 0\n",
        "    generations = []\n",
        "    loop = tqdm(total=test_batches, position=0, leave=False)\n",
        "    for i in range(0, len(test_texts), batch_size):\n",
        "        # TODO: get the current batch of data.\n",
        "        batch = test_texts[i:i+batch_size]\n",
        "\n",
        "        # TODO: use compute_reward_for_mini_batch() for evaluating each mini batch.\n",
        "        reward, _, generated = compute_reward_for_mini_batch(batch, tokenizer, model, reward_tokenizer, reward_model)\n",
        "\n",
        "        # TODO: add generated to generations.\n",
        "        generations.extend(generated)\n",
        "        # TODO: add average batch reward to total_reward.\n",
        "        total_reward += reward.mean().item() * len(batch)\n",
        "        # TODO: compute the average_reward so far for the display of the progress bar.\n",
        "        average_reward = total_reward / (i + batch_size)\n",
        "\n",
        "        loop.set_description(f\"Average Reward: {average_reward:.4f}\")\n",
        "        loop.update(1)\n",
        "\n",
        "    # TODO: compute the final_average_reward.\n",
        "    final_average_reward = total_reward / len(test_texts)\n",
        "\n",
        "    print(f\"Final Average Reward: {final_average_reward:.4f}\")\n",
        "    print(f\"Example texts: {generations[:5]}\")\n",
        "\n",
        "    return {\n",
        "        'reward': final_average_reward,\n",
        "        'generations': generations,\n",
        "    }\n",
        "\n",
        "results = evaluate(tokenizer, model, reward_tokenizer, reward_model)\n",
        "print(\"Reward:\", results[\"reward\"])"
      ]
    },
    {
      "cell_type": "markdown",
      "metadata": {
        "id": "FFRAwgz9dovG"
      },
      "source": [
        "## **Questions to Answer** for Section 1:\n",
        "**Answer these questions in your write-up report.**\n",
        "- **Q1.1:** Run the pretrained model on the evaluation funciton over the entire test set. What is the average reward?\n",
        "  - *Hint:* On a free Google Colab T4 instance, with a generation batch size of 32, this should take about 5 minutes to run.\n",
        "- **Q1.2:** How do you feel about the quality of the generations? What sentiment do they express? Feel free to say so in your report if the sentences don't express clear sentiment to you.\n",
        "- **Q1.3:** What does the `loop` variable do in the `evaluate()` function?"
      ]
    },
    {
      "cell_type": "markdown",
      "metadata": {
        "id": "OCyRwB5JHspk"
      },
      "source": [
        "# Section 2: Implementing REINFORCE"
      ]
    },
    {
      "cell_type": "markdown",
      "metadata": {
        "id": "jzlFoc_HCn4V"
      },
      "source": [
        "## **Coding Exercises** for Section 2:\n",
        "**You will complete the following code blocks denoted by `TODO:`.**\n",
        "\n"
      ]
    },
    {
      "cell_type": "markdown",
      "metadata": {
        "id": "YgBOFpz20o0F"
      },
      "source": [
        "### 2.1 Implement the REINFORCE loss"
      ]
    },
    {
      "cell_type": "code",
      "execution_count": null,
      "metadata": {
        "id": "eD8ciJuaJwr1"
      },
      "outputs": [],
      "source": [
        "def compute_reinforce_loss(reward, output_tokens, model):\n",
        "  \"\"\"\n",
        "  Compute REINFORCE loss given the generations' rewards (reward) along with the\n",
        "  models' generations (output_tokens) that we need to compute probabilities' over.\n",
        "\n",
        "  Return the log probabilities of the output tokens, and the REINFORCE loss.\n",
        "  \"\"\"\n",
        "  # TODO: get batch_size.\n",
        "  batch_size = output_tokens.size(0)\n",
        "\n",
        "  # TODO: feed output_tokens into the model, and get log_probs with output logits\n",
        "  # using log_softmax.\n",
        "  output = model(input_ids=output_tokens, attention_mask=(output_tokens != tokenizer.pad_token_id).to(device))\n",
        "  log_probs = F.log_softmax(output.logits, dim=-1)\n",
        "  # TODO: choose logprobs of actual generated tokens.\n",
        "  # Hint: note that output_tokens contains the 10 seed tokens (token 1 ... 10)\n",
        "  # and the 20 continuation tokens (token 11 ... 30) generated by the model.\n",
        "  # To get log_probs, putting output_tokens through the model will condition on\n",
        "  # token 1 ... 30 to predict the next token (at position 31) in the sequence.\n",
        "  # Therefore, log_probs contains the log probs of tokens at position 2 ... 31.\n",
        "  # We want to choose the log_probs of tokens at position 2 ... 30 for\n",
        "  # computing the REINFORCE loss.\n",
        "  # Hint: chosen_log_probs should have size: torch.Size([batch_size, 29]).\n",
        "  # Hint: you may find this example code helpful, https://github.com/huggingface/transformers/blob/d90acc16437e8c9e45e068fa1cc1a263b9a7208f/src/transformers/models/gpt2/modeling_gpt2.py#L1103C13-L1103C63\n",
        "  shifted_logits = output.logits[..., :-1, :].contiguous()\n",
        "  shifted_labels = output_tokens[..., 1:].contiguous()\n",
        "\n",
        "  shifted_log_probs = F.log_softmax(shifted_logits, dim=-1)\n",
        "  gather_indices = shifted_labels[..., 10:].unsqueeze(-1)\n",
        "  chosen_log_probs = torch.gather(shifted_log_probs, 2, gather_indices).squeeze(-1)\n",
        "\n",
        "  # TODO: compute batched REINFORCE loss with chosen_log_probs and reward.\n",
        "  # Hint: it can be helpful to reshape reward for batched computation.\n",
        "  reward = reward.view(-1, 1)\n",
        "  batch_loss = (chosen_log_probs * reward).sum(dim=1)\n",
        "\n",
        "  # TODO: average the batch_loss to get the final REINFORCE loss.\n",
        "  loss = batch_loss.mean()\n",
        "\n",
        "  return log_probs, loss"
      ]
    },
    {
      "cell_type": "markdown",
      "metadata": {
        "id": "BjnkpM9bHzfL"
      },
      "source": [
        "### 2.2 REINFORCE training"
      ]
    },
    {
      "cell_type": "code",
      "execution_count": null,
      "metadata": {
        "id": "PKnr9D19IY1n"
      },
      "outputs": [],
      "source": [
        "######################################################\n",
        "#  The following helper function is given to you.\n",
        "######################################################\n",
        "def reset_model_optimizer(model_name, lr=1e-4):\n",
        "  global model, optimizer\n",
        "  model = AutoModelForCausalLM.from_pretrained(model_name).to(device)\n",
        "  model.config.pad_token_id = tokenizer.eos_token_id\n",
        "  optimizer = torch.optim.AdamW(model.parameters(), lr=lr)"
      ]
    },
    {
      "cell_type": "code",
      "execution_count": null,
      "metadata": {
        "id": "OjTd9N9iJSJQ"
      },
      "outputs": [],
      "source": [
        "def train(model_name, alpha=.001, lr=1e-4, batch_size=32, use_kl_divergence=False, debug=False):\n",
        "  \"\"\"\n",
        "    Train model by computing loss for each mini-batch, and update weights as\n",
        "    needed using the optimizer.\n",
        "\n",
        "    For computing the mini-batch loss,\n",
        "    1. Compute rewards,\n",
        "    2. Compute REINFORCE loss,\n",
        "    3. Include KL divergence loss only if use_kl_divergence=True.\n",
        "  \"\"\"\n",
        "  set_seed(42)\n",
        "  global model, orig_model, tokenizer, reward_model, optimizer\n",
        "  reset_model_optimizer(model_name, lr=lr)\n",
        "  global train_texts\n",
        "\n",
        "  train_texts_ = train_texts[:50] if debug else train_texts\n",
        "\n",
        "  if use_kl_divergence:\n",
        "    kl_divergences = []\n",
        "    orig_model = AutoModelForCausalLM.from_pretrained(model_name).to(device)\n",
        "    orig_model.eval()\n",
        "\n",
        "  losses = []\n",
        "  rewards = []\n",
        "  batches = len(train_texts_) // batch_size\n",
        "  loop = tqdm(total=batches, position=0, leave=False)\n",
        "  for i in range(0, len(train_texts_), batch_size):\n",
        "    # TODO: get the current batch of data.\n",
        "    batch = train_texts_[i:i + batch_size]\n",
        "\n",
        "    # TODO: compute reward of the batch using compute_reward_for_mini_batch().\n",
        "    # Hint: you need to detach the reward tensor to break gradient updates.\n",
        "    reward, output_tokens, _ = compute_reward_for_mini_batch(batch, tokenizer, model, reward_tokenizer, reward_model)\n",
        "    reward = reward.detach()\n",
        "\n",
        "    # TODO: compute REINFORCE loss.\n",
        "    log_probs, loss = compute_reinforce_loss(reward, output_tokens, model)\n",
        "\n",
        "    # TODO: Compute kl divergence, and modify loss accordingly with alpha.\n",
        "    # You will complete this for section 3.\n",
        "    if use_kl_divergence:\n",
        "      kl_divergence = compute_kl_divergence(log_probs, output_tokens, orig_model)\n",
        "      kl_divergences.append(kl_divergence.item())\n",
        "\n",
        "      loss += alpha * kl_divergence\n",
        "\n",
        "    # TODO: compute gradients and update parameters using optimizer.\n",
        "    optimizer.zero_grad()\n",
        "    loss.backward()\n",
        "    optimizer.step()\n",
        "\n",
        "    # TODO: add mean reward, loss, and kl_divergence to their corresponding lists,\n",
        "    # when appropriate.\n",
        "    losses.append(loss.item())\n",
        "    rewards.append(reward.mean().item())\n",
        "\n",
        "    if use_kl_divergence:\n",
        "      loop.set_description(f\"Loss: {loss.item():.4f}, KL: {kl_divergence.item():.4f}, Reward: {reward.mean().item():.4f}\")\n",
        "    else:\n",
        "      loop.set_description(f\"Loss: {loss.item():.4f}, Reward: {reward.mean().item():.4f}\")\n",
        "    loop.update(1)\n",
        "\n",
        "  eval_results = evaluate(tokenizer, model, reward_tokenizer, reward_model)\n",
        "\n",
        "  return_dict = {\n",
        "      'losses': losses,\n",
        "      'rewards': rewards,\n",
        "      'eval_results': eval_results\n",
        "  }\n",
        "  if use_kl_divergence:\n",
        "    return_dict['kl_divergences'] = kl_divergences\n",
        "\n",
        "  return return_dict\n",
        "\n",
        "results_reinforce = train(model_name)\n",
        "print(\"Losses:\", results_reinforce['losses'])"
      ]
    },
    {
      "cell_type": "markdown",
      "metadata": {
        "id": "NAP1fAbCIGG1"
      },
      "source": [
        "### 2.3 Plot"
      ]
    },
    {
      "cell_type": "code",
      "execution_count": null,
      "metadata": {
        "id": "LRJr4Er4QZLa"
      },
      "outputs": [],
      "source": [
        "plt.plot(results_reinforce['rewards'])\n",
        "plt.xlabel('# batch')\n",
        "plt.ylabel('reward')"
      ]
    },
    {
      "cell_type": "markdown",
      "metadata": {
        "id": "2j6eiyHFNZHd"
      },
      "source": [
        "## **Questions to Answer** for Section 2:\n",
        "**Answer these questions in your write-up report.**\n",
        "- **Q2.1:** Run your training function over the entire training set for 1 epoch. Plot the reward over time and report the average reward on the test set of the final trained model. A valid solution should achieve a final average reward of at least 0.75.\n",
        "  - *Hint:* An efficient implementation with the recommended hyperparameters above should train the model in under 10 minutes.\n",
        "\n",
        "- **Q2.2:** Provide 5 example generations from the model. Are they more positive than the original generations? What else do you notice about them?\n",
        "\n",
        "- **Q2.3:** What are the limitations of REINFORCE based on your observations of the generated reviews? Explain what might have caused such limitations.\n",
        "\n",
        "- **Q2.4:** What does `reset_model_optimizer()` do?\n",
        "\n",
        "- **Q2.5:** What's the shape of `log_probs` in `compute_reinforce_loss()`, and what does each dimension correspond to?"
      ]
    },
    {
      "cell_type": "markdown",
      "metadata": {
        "id": "aZ0XoDWmGsJh"
      },
      "source": [
        "# Section 3: Regularization"
      ]
    },
    {
      "cell_type": "markdown",
      "metadata": {
        "id": "SjfQFNTAH8X2"
      },
      "source": [
        "## **Coding Exercises** for Section 3:\n",
        "**You will complete the following code blocks denoted by `TODO:`.**\n",
        "\n"
      ]
    },
    {
      "cell_type": "markdown",
      "metadata": {
        "id": "5dN1C6f601G1"
      },
      "source": [
        "### 3.1 Compute KL divergence"
      ]
    },
    {
      "cell_type": "code",
      "execution_count": null,
      "metadata": {
        "id": "rXbgxpJ5Jyt8"
      },
      "outputs": [],
      "source": [
        "def compute_kl_divergence(log_probs_current, output_tokens, orig_model):\n",
        "  \"\"\"\n",
        "  Compute the KL divergence between the original model' log probabilities for generating\n",
        "  output_tokens, and the current model's log probabilities (log_probs_current)\n",
        "  \"\"\"\n",
        "  # TODO:\n",
        "  with torch.no_grad():\n",
        "    orig_logits = orig_model(input_ids=output_tokens, attention_mask=(output_tokens != tokenizer.pad_token_id).to(device)).logits\n",
        "    orig_probs = F.log_softmax(orig_logits, dim=-1)\n",
        "\n",
        "  kl_divergence = F.kl_div(log_probs_current, orig_probs, reduction='batchmean', log_target=True)\n",
        "\n",
        "  return kl_divergence"
      ]
    },
    {
      "cell_type": "markdown",
      "metadata": {
        "id": "9VotsaiBIo8B"
      },
      "source": [
        "### 3.2 Experiment with different alpha for KL regularization"
      ]
    },
    {
      "cell_type": "code",
      "execution_count": null,
      "metadata": {
        "colab": {
          "background_save": true
        },
        "id": "2jKIp47mXdnc"
      },
      "outputs": [],
      "source": [
        "results_reinforce_kl_div_alpha_zero = train(model_name, use_kl_divergence=True, alpha=0.000)\n",
        "plt.plot(results_reinforce_kl_div_alpha_zero['kl_divergences'])\n",
        "plt.xlabel('# batch')\n",
        "plt.ylabel('KL')"
      ]
    },
    {
      "cell_type": "code",
      "execution_count": null,
      "metadata": {},
      "outputs": [],
      "source": [
        "results_alpha = train(model_name, use_kl_divergence=True, alpha=0.01)"
      ]
    },
    {
      "cell_type": "code",
      "execution_count": null,
      "metadata": {},
      "outputs": [],
      "source": [
        "\n",
        "plt.plot(results_alpha['kl_divergences'])\n",
        "plt.xlabel('# batch')\n",
        "plt.ylabel('KL')"
      ]
    },
    {
      "cell_type": "code",
      "execution_count": null,
      "metadata": {},
      "outputs": [],
      "source": [
        "\n",
        "plt.plot(results_alpha['rewards'])\n",
        "plt.xlabel('# batch')\n",
        "plt.ylabel('reward')"
      ]
    },
    {
      "cell_type": "markdown",
      "metadata": {
        "id": "R-1NE4CJJV8z"
      },
      "source": [
        "## **Questions to Answer** for Section 3:\n",
        "**Answer these questions in your write-up report.**\n",
        "- **Q3.1:** First, run your REINFORCE training function with `alpha=0` for 1 epoch. This is equivalent to training without the KL-penalty. Plot the KL-divergence between the original model and the new model over time. What trend do you see from the plot? Why such a trend could be undesirable in practice?\n",
        "- **Q3.2:** Try different `alpha` to experiment with the power of KL-regularization. For each setup, report the `alpha` values, the KL-divergence plots, reward plots, 5 sample generations, and comments on the samples' quality.\n",
        "  - A high `alpha` that prevents the model from being able to get a reward of 0.65 or more.\n",
        "  - A low `alpha` that the outputs are poor quality.\n",
        "  - An `alpha` that gets a good reward (>0.8) and output mostly natural text.\n",
        "\n",
        "- **Q3.3:** Based on your experience with REINFORCE with KL-regularization, identify one of its main limitations and propose a potential solution. There's no single right answer here; any justifiable answer will result in full credit.\n",
        "\n",
        "- **Q3.4:** Over which tokens do we compute the REINFORCE loss, and why?"
      ]
    },
    {
      "cell_type": "markdown",
      "metadata": {
        "id": "MKQCHnQALlYP"
      },
      "source": [
        "# Section 4: DPO\n",
        "\n",
        "In the following section, you will implement training code for DPO. Much of the code can be re-used from the REINFORCE section.\n",
        "\n",
        "<!-- Make sure to name your variables and functions **DIFFERENTLY** from the above sections, since you will be re-using functions (like evaluate) and variables from above. -->"
      ]
    },
    {
      "cell_type": "markdown",
      "metadata": {
        "id": "EoRB5eNTMqJw"
      },
      "source": [
        "## **Coding Exercises** for Section 4:\n",
        "**You will complete the following code blocks denoted by `TODO:`.**"
      ]
    },
    {
      "cell_type": "markdown",
      "metadata": {
        "id": "FrpvfZ5a03tQ"
      },
      "source": [
        "### 4.1 Reloading the base model"
      ]
    },
    {
      "cell_type": "code",
      "execution_count": null,
      "metadata": {
        "id": "uzPuOpJOLo0F"
      },
      "outputs": [],
      "source": [
        "\"\"\"\n",
        "Reload initial model and tokenizer for DPO send it to GPU if available.\n",
        "\n",
        "This code chunk is the same as in Section 1, so you can copy the code over.\n",
        "\n",
        "We don't need to reload the reward tokenizer or model!\n",
        "\"\"\"\n",
        "\n",
        "device = torch.device(\"mps\" if torch.backends.mps.is_available() else \"cpu\")\n",
        "print('Device:', device)\n",
        "model_name = 'distilgpt2'\n",
        "\n",
        "# TODO: Load the tokenizer.\n",
        "# Hint: remember to add paddings on the left for the decoder-only model.\n",
        "tokenizer = AutoTokenizer.from_pretrained(model_name, padding_side='left')\n",
        "\n",
        "# TODO: set the pad_token to the eos_token.\n",
        "tokenizer.pad_token = tokenizer.eos_token\n",
        "# TODO: Load the model and sent it to the device.\n",
        "model = AutoModelForCausalLM.from_pretrained(model_name).to(device)\n",
        "\n",
        "model.config.pad_token_id = tokenizer.eos_token_id"
      ]
    },
    {
      "cell_type": "markdown",
      "metadata": {
        "id": "Bq6IAyz7M3fH"
      },
      "source": [
        "### 4.2 Loading the data\n",
        "\n",
        "The previous dataset we used (IMDB) contains only movie reviews and a sentiment label. For DPO, we need to load in a *pairwise, preference* dataset and make a corresponding dataloader."
      ]
    },
    {
      "cell_type": "code",
      "execution_count": null,
      "metadata": {
        "id": "h5zcRHUWNTb8"
      },
      "outputs": [],
      "source": [
        "\"\"\"\n",
        "Load pairwise IMDB dataset train & test splits, and shuffle the samples within every data split,\n",
        "\n",
        "We provided a random seed to ensure reproducibility of your shuffling.\n",
        "\n",
        "Dataset is located at \"hallisky/synthetic-imdb-movie-reviews-parallel\" on\n",
        "huggingface datasets.\n",
        "\"\"\"\n",
        "\n",
        "# TODO: you will store your prompt, concatenated prompt and positive completion,\n",
        "# and concatenated prompt and negative completion\n",
        "# Hint: train_texts_parallel and test_texts_parallel are lists of triples of\n",
        "# (prompt, prompt + pos, prompt + neg).\n",
        "dataset_parallel = load_dataset('hallisky/synthetic-imdb-movie-reviews-parallel')\n",
        "\n",
        "train_texts_parallel = [(prompt, prompt_pos, prompt_neg) for prompt, prompt_pos, prompt_neg in zip(\n",
        "    dataset_parallel['train']['prompt'],\n",
        "    dataset_parallel['train']['positive_completion'],\n",
        "    dataset_parallel['train']['negative_completion'])]\n",
        "\n",
        "test_texts_parallel = [(prompt, prompt_pos, prompt_neg) for prompt, prompt_pos, prompt_neg in zip(\n",
        "    dataset_parallel['test']['prompt'],\n",
        "    dataset_parallel['test']['positive_completion'],\n",
        "    dataset_parallel['test']['negative_completion'])]\n",
        "\n",
        "random.seed(42)\n",
        "# TODO: shuffle train and test sets.\n",
        "random.shuffle(train_texts_parallel)\n",
        "random.shuffle(test_texts_parallel)\n",
        "\n",
        "# Print the first 5 rows of data\n",
        "print(train_texts_parallel[:5])"
      ]
    },
    {
      "cell_type": "markdown",
      "metadata": {
        "id": "i2MTmyllof2D"
      },
      "source": [
        "### 4.3 Implementing DPO\n",
        "\n",
        "Implement DPO by computing the DPO loss. Note that the prompts are shared between the positive and negative outputs, so we should mask them when we are computing the loss.\n"
      ]
    },
    {
      "cell_type": "code",
      "execution_count": null,
      "metadata": {
        "id": "0D14HffPMN0y"
      },
      "outputs": [],
      "source": [
        "def compute_DPO_loss(policy_chosen_logps, policy_rejected_logps,\n",
        "                     reference_chosen_logps, reference_rejected_logps,\n",
        "                     beta = 0.1):\n",
        "  \"\"\"\n",
        "  Compute the DPO loss.\n",
        "\n",
        "  Args:\n",
        "    policy_chosen_logps: Log probabilities of the policy model for the chosen responses. Shape: (batch_size,)\n",
        "    policy_rejected_logps: Log probabilities of the policy model for the rejected responses. Shape: (batch_size,)\n",
        "    reference_chosen_logps: Log probabilities of the reference model for the chosen responses. Shape: (batch_size,)\n",
        "    reference_rejected_logps: Log probabilities of the reference model for the rejected responses. Shape: (batch_size,)\n",
        "    beta: Temperature parameter for the DPO loss, typically something in the range of 0.1 to 0.5. We ignore the reference model as beta -> 0.\n",
        "\n",
        "  Returns:\n",
        "    The the DPO loss.\n",
        "    # , the reward of chosen, and reward of rejected.\n",
        "  \"\"\"\n",
        "  # TODO: implement the DPO loss using the equation in the assignment spec.\n",
        "  # Hint: you may find F.logsigmoid() handy in your implementation.\n",
        "  # Hint: note the inputs are log probs, so be careful with performing log arithmetic.\n",
        "  losses = - F.logsigmoid(beta * (policy_chosen_logps - reference_chosen_logps) - beta * (policy_rejected_logps - reference_rejected_logps))\n",
        "\n",
        "  return losses.mean()"
      ]
    },
    {
      "cell_type": "code",
      "execution_count": null,
      "metadata": {
        "id": "KlF9tE7FxMwa"
      },
      "outputs": [],
      "source": [
        "\"\"\"\n",
        "Helper functions.\n",
        "\"\"\"\n",
        "\n",
        "def _get_batch_logps(logits: torch.FloatTensor,\n",
        "                     labels: torch.LongTensor,\n",
        "                     average_log_prob: bool = False) -> torch.FloatTensor:\n",
        "    \"\"\"\n",
        "    Compute the log probabilities of the given labels under the given logits.\n",
        "\n",
        "    Args:\n",
        "        logits: Logits of the model (unnormalized). Shape: (batch_size, sequence_length, vocab_size)\n",
        "        labels: Labels for which to compute the log probabilities. Label tokens with a value of -100 are ignored. Shape: (batch_size, sequence_length)\n",
        "        average_log_prob: If True, return the average log probability per (non-masked) token. Otherwise, return the sum of the log probabilities of the (non-masked) tokens.\n",
        "\n",
        "    Returns:\n",
        "        A tensor of shape (batch_size,) containing the average/sum log probabilities of the given labels under the given logits.\n",
        "    \"\"\"\n",
        "    assert logits.shape[:-1] == labels.shape\n",
        "\n",
        "    # TODO: choose the per_token_logps for the model generated completion part.\n",
        "    # Hint: remember to shift logits and labels to make their indices correspond\n",
        "    # to each other, just like what you did in REINFORCE loss.\n",
        "    # Hint: you should only use the unmasked tokens (i.e., ignoring the prompts),\n",
        "    # when you return the final log probs. This can be handled with a loss mask.\n",
        "\n",
        "    loss_mask = (labels[:, 1:] != -100).float()\n",
        "    per_token_logps = F.log_softmax(logits[:, :-1], dim=-1).gather(-1, labels[:, 1:].unsqueeze(-1)).squeeze(-1)\n",
        "\n",
        "    if average_log_prob:\n",
        "        return (per_token_logps * loss_mask).sum(-1) / loss_mask.sum(-1)\n",
        "    else:\n",
        "        return (per_token_logps * loss_mask).sum(-1)\n",
        "\n",
        "\n",
        "def get_log_probs(model, batch: Dict[str, Union[List, torch.LongTensor]]) -> torch.FloatTensor:\n",
        "    \"\"\"\n",
        "    Run the given model on the given batch of inputs, concatenating the chosen and rejected inputs together.\n",
        "\n",
        "    We do this to avoid doing two forward passes, because it's faster for FSDP.\n",
        "    \"\"\"\n",
        "    # TODO: get the raw output from the model, and get the selected log_probs\n",
        "    # using the _get_batch_logps() helper function above.\n",
        "    output = model(input_ids=batch['input_ids'], attention_mask=batch['attention_mask'])\n",
        "    all_logps = _get_batch_logps(output.logits, batch['chosen_labels' if 'chosen_labels' in batch else 'rejected_labels'])\n",
        "    return all_logps\n",
        "\n",
        "\n",
        "def create_labels_from_attention_mask(tokenized_input, prompt_lengths):\n",
        "    \"\"\"\n",
        "    Creates a labels tensor that matches the size of input_ids. The labels tensor\n",
        "    is filled with -100 where the attention mask is 0 or at indeces corresponding,\n",
        "    to the prompt indicating tokens that are NOT using to compute the log probabilties.\n",
        "\n",
        "    Args:\n",
        "        tokenized_input (dict): A dictionary containing the tokenized inputs, including 'input_ids' and 'attention_mask'.\n",
        "\n",
        "    Returns:\n",
        "        torch.Tensor: A tensor of labels with the same shape as input_ids, filled with -100 where attention_mask is 0.\n",
        "    \"\"\"\n",
        "    # TODO: extract the attention mask from the tokenized input.\n",
        "    attention_mask = tokenized_input['attention_mask']\n",
        "\n",
        "    # TODO: get the length difference between the full input_lengths and the prompt_lengths.\n",
        "    input_lengths = attention_mask.sum(dim=1)\n",
        "    length_diff = input_lengths - prompt_lengths\n",
        "\n",
        "    # TODO: create a labels tensor that matches the shape of input_ids, initially filled with -100.\n",
        "    labels = torch.full_like(tokenized_input['input_ids'], fill_value=-100).to(device)\n",
        "\n",
        "    # TODO: update labels to match input_ids values where the attention mask is 1 (keeping -100 where it is 0).\n",
        "    labels = torch.where(attention_mask == 1, tokenized_input['input_ids'], labels)\n",
        "\n",
        "    # TODO: update labels so that prompts from the input_ids are set to -100\n",
        "    labels = torch.where(length_diff.unsqueeze(1) > 0, labels, -100)\n",
        "\n",
        "    return labels\n"
      ]
    },
    {
      "cell_type": "markdown",
      "metadata": {
        "id": "MzyWOXBKyAJf"
      },
      "source": [
        "### 4.4 Training DPO"
      ]
    },
    {
      "cell_type": "code",
      "execution_count": null,
      "metadata": {
        "id": "HFrrKORWx8f3"
      },
      "outputs": [],
      "source": [
        "def train_DPO(model_name, beta=0.5, lr=5e-7, batch_size=32, max_length=128, debug=False):\n",
        "  \"\"\"\n",
        "    Trains a specified model using Deep Policy Optimization (DPO) by computing\n",
        "    loss for each mini-batch, and update weights as needed using the optimizer.\n",
        "\n",
        "    Parameters:\n",
        "    - model_name (str): Name of the model to be trained. This is a required parameter that specifies\n",
        "      which model architecture to load and train.\n",
        "    - beta (float, optional): Regularization parameter for DPO\n",
        "    - lr (float, optional): Learning rate for the optimizer.\n",
        "    - batch_size (int, optional): Size of the batches of data used for each iteration of training.\n",
        "    - debug (bool, optional): Enables or disables debug mode\n",
        "    - max_length: Max length of sequences in batch\n",
        "  \"\"\"\n",
        "  set_seed(42)\n",
        "  global model, orig_model, tokenizer, reward_model, optimizer\n",
        "  reset_model_optimizer(model_name, lr=lr)\n",
        "  global train_texts\n",
        "\n",
        "  train_texts_ = train_texts_parallel[:50] if debug else train_texts_parallel\n",
        "\n",
        "  # TODO: save the original model.\n",
        "  orig_model = AutoModelForCausalLM.from_pretrained(model_name).to(device)\n",
        "\n",
        "  losses = []\n",
        "  chosen_rewards = []\n",
        "\n",
        "  batches = len(train_texts_) // batch_size\n",
        "  loop = tqdm(total=batches * 2, position=0, leave=False)\n",
        "  for _ in range(2):\n",
        "    for i in range(0, len(train_texts_), batch_size):\n",
        "      # TODO: get the current batch of data.\n",
        "      batch = train_texts_[i:i + batch_size]\n",
        "\n",
        "      \"\"\"\n",
        "      Convert the batch to tokenized form separately for the prompt, the positive, and negative examples.\n",
        "\n",
        "      Remember to send all tokenized data to the device.\n",
        "      \"\"\"\n",
        "      # TODO: tokenize the prompt and get the prompt_lengths, and set padding=True,\n",
        "      # truncation=True, and max_length=max_length.\n",
        "      prompt_tokenized = tokenizer([x[0] for x in batch], padding=True, truncation=True, max_length=max_length, return_tensors=\"pt\")\n",
        "      prompt_lengths = prompt_tokenized['attention_mask'].sum(dim=1).to(device)\n",
        "\n",
        "      # TODO: tokenize the chosen sequence.\n",
        "      chosen_tokenized = tokenizer([x[1] for x in batch], padding=True, truncation=True, max_length=max_length, return_tensors=\"pt\")\n",
        "\n",
        "      # send chosen_tokenized to the device.\n",
        "      chosen_tokenized = {k: v.to(device) for k, v in chosen_tokenized.items()}\n",
        "\n",
        "      # TODO: create labels from attention_mask for chosen_tokenized.\n",
        "      chosen_tokenized['chosen_labels'] = create_labels_from_attention_mask(chosen_tokenized, prompt_lengths)\n",
        "\n",
        "      # TODO: tokenize the rejected sequence.\n",
        "      rejected_tokenized = tokenizer([x[2] for x in batch], padding=True, truncation=True, max_length=max_length, return_tensors=\"pt\")\n",
        "\n",
        "      # send rejected_tokenized to the device.\n",
        "      rejected_tokenized = {k: v.to(device) for k, v in rejected_tokenized.items()}\n",
        "\n",
        "      # TODO: create labels from attention_mask for rejected_tokenized.\n",
        "      rejected_tokenized['rejected_labels'] = create_labels_from_attention_mask(rejected_tokenized, prompt_lengths)\n",
        "\n",
        "      # TODO: get log probs for the chosen and rejected model completions from the policy model.\n",
        "      model_chosen_log_probs = get_log_probs(model, chosen_tokenized)\n",
        "      model_rejected_log_probs = get_log_probs(model, rejected_tokenized)\n",
        "\n",
        "      # TODO: get log probs for the chosen and rejected model completions from the original model.\n",
        "      with torch.no_grad():\n",
        "        orig_chosen_log_probs = get_log_probs(orig_model, chosen_tokenized)\n",
        "        orig_rejected_log_probs = get_log_probs(orig_model, rejected_tokenized)\n",
        "\n",
        "      # TODO: compute DPO loss.\n",
        "      loss = compute_DPO_loss(model_chosen_log_probs, model_rejected_log_probs, orig_chosen_log_probs, orig_rejected_log_probs, beta=beta)\n",
        "\n",
        "      # TODO: compute gradients and update parameters using optimizer.\n",
        "      optimizer.zero_grad()\n",
        "      loss.backward()\n",
        "      optimizer.step()\n",
        "\n",
        "      # TODO: add loss to the list.\n",
        "      losses.append(loss.item())\n",
        "\n",
        "      loop.set_description(f\"Loss: {loss.item():.4f}\") # , Reward: {reward.mean().item():.4f}\")\n",
        "      loop.update(1)\n",
        "\n",
        "  eval_results = evaluate(tokenizer, model, reward_tokenizer, reward_model)\n",
        "\n",
        "  # TODO: repeat the above logic to get the loss on the test set after training.\n",
        "  test_loss = 0\n",
        "  test_batches = len(test_texts_parallel) // batch_size\n",
        "  loop = tqdm(total=test_batches, position=0, leave=False)\n",
        "\n",
        "  for i in range(0, len(test_texts_parallel), batch_size):\n",
        "    batch = test_texts_parallel[i:i + batch_size]\n",
        "\n",
        "    prompt_tokenized = tokenizer([x[0] for x in batch], padding=True, truncation=True, max_length=max_length, return_tensors=\"pt\")\n",
        "    prompt_lengths = prompt_tokenized['attention_mask'].sum(dim=1).to(device)\n",
        "\n",
        "    chosen_tokenized = tokenizer([x[1] for x in batch], padding=True, truncation=True, max_length=max_length, return_tensors=\"pt\")\n",
        "    chosen_tokenized = {k: v.to(device) for k, v in chosen_tokenized.items()}\n",
        "    chosen_tokenized['chosen_labels'] = create_labels_from_attention_mask(chosen_tokenized, prompt_lengths)\n",
        "\n",
        "    rejected_tokenized = tokenizer([x[2] for x in batch], padding=True, truncation=True, max_length=max_length, return_tensors=\"pt\")\n",
        "    rejected_tokenized = {k: v.to(device) for k, v in rejected_tokenized.items()}\n",
        "    rejected_tokenized['rejected_labels'] = create_labels_from_attention_mask(rejected_tokenized, prompt_lengths)\n",
        "\n",
        "    model_chosen_log_probs = get_log_probs(model, chosen_tokenized)\n",
        "    model_rejected_log_probs = get_log_probs(model, rejected_tokenized)\n",
        "\n",
        "    with torch.no_grad():\n",
        "      orig_chosen_log_probs = get_log_probs(orig_model, chosen_tokenized)\n",
        "      orig_rejected_log_probs = get_log_probs(orig_model, rejected_tokenized)\n",
        "\n",
        "    tloss = compute_DPO_loss(model_chosen_log_probs, model_rejected_log_probs, orig_chosen_log_probs, orig_rejected_log_probs, beta=beta)\n",
        "\n",
        "    test_loss += tloss.item()\n",
        "\n",
        "    loop.set_description(f\"Test Loss: {test_loss:.4f}\")\n",
        "    loop.update(1)\n",
        "\n",
        "  test_loss /= test_batches\n",
        "\n",
        "  return_dict = {\n",
        "      'losses': losses,\n",
        "      'test_loss': test_loss,\n",
        "      'eval_results': eval_results\n",
        "  }\n",
        "\n",
        "  return return_dict\n",
        "\n",
        "results_DPO = train_DPO(model_name, batch_size=16, debug=False, beta=0.175)"
      ]
    },
    {
      "cell_type": "markdown",
      "metadata": {
        "id": "EV7gTr4BxobV"
      },
      "source": [
        "### 4.5 Plots"
      ]
    },
    {
      "cell_type": "code",
      "execution_count": null,
      "metadata": {
        "id": "WTCfPP_DxoiY"
      },
      "outputs": [],
      "source": [
        "plt.plot(results_DPO['losses'])\n",
        "plt.xlabel('# batch')\n",
        "plt.ylabel('train loss')\n",
        "print(\"Test Loss:\", results_DPO['test_loss'])"
      ]
    },
    {
      "cell_type": "code",
      "execution_count": null,
      "metadata": {
        "id": "5DPTaSRMxq4p"
      },
      "outputs": [],
      "source": [
        "tokenizer.batch_decode(model.generate(tokenizer([\"I expected a great\"], return_tensors=\"pt\")[\"input_ids\"].to('mps')))"
      ]
    },
    {
      "cell_type": "markdown",
      "metadata": {
        "id": "eq8jm6hU92M_"
      },
      "source": [
        "## **Questions to Answer** for Section 4:\n",
        "**Answer these questions in your write-up report.**\n",
        "- **Q4.1:** Run your training function for 2 epochs using the batch size 16. Plot the training/test losses over time and report the model's average loss on the test set for the final model. Note that an efficient implementation should run in about 10 minutes.\n",
        "\n",
        "- **Q4.2:** Run the evaluation function using the same data and code from Part 1 using the DPO-trained model. How does the reward compare to the REINFORCE model? Why do you think the results look like this?\n",
        "\n",
        "- **Q4.3:** Provide 5 example generations from the DPO-trained model. Are they more positive than the generations of the original model? What else do you notice about them?\n",
        "\n",
        "- **Q4.4:** Try 3 different values for `β` (note it's typically set to be in the range of 0.1 to 0.5). Plot the training loss plots and report the final test losses for each of these setups. What's the best setup that you found? How do different values of `β` impact the training differently?\n",
        "\n",
        "- **Q4.5:** What's the purpose of using `σ`, the logistic function, in `L_DPO`?\n",
        "\n",
        "- **Q4.6:** What are the main differences and advantages of DPO compared to other online RL methods like PPO?"
      ]
    }
  ],
  "metadata": {
    "accelerator": "GPU",
    "colab": {
      "gpuType": "T4",
      "provenance": []
    },
    "kernelspec": {
      "display_name": "Python 3",
      "name": "python3"
    },
    "language_info": {
      "codemirror_mode": {
        "name": "ipython",
        "version": 3
      },
      "file_extension": ".py",
      "mimetype": "text/x-python",
      "name": "python",
      "nbconvert_exporter": "python",
      "pygments_lexer": "ipython3",
      "version": "3.11.7"
    }
  },
  "nbformat": 4,
  "nbformat_minor": 0
}
