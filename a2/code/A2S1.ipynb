{
  "cells": [
    {
      "cell_type": "markdown",
      "metadata": {
        "id": "Oewn7nm0gSo0"
      },
      "source": [
        "# 1. Understanding Attention\n",
        "\n",
        "- Before running the jupyter notebook, don't forget to copy it into your drive **(`File` => `Save a copy in Drive`)**. *Failing to do this step may result in losing the progress of your code.*\n",
        "- For this notebook, please fill in the line(s) directly after a `#TODO` comment with your answers.\n",
        "- For the submission of the assignment, please download this notebook as a **Python file**, named `A2S1.py`."
      ]
    },
    {
      "cell_type": "markdown",
      "metadata": {
        "id": "0dr9R_7hGvHN"
      },
      "source": [
        "## Imports and Setup"
      ]
    },
    {
      "cell_type": "code",
      "execution_count": 1,
      "metadata": {
        "id": "5IgrbAcuGut3"
      },
      "outputs": [],
      "source": [
        "import torch\n",
        "import torch.nn as nn\n",
        "import torch.nn.functional as F"
      ]
    },
    {
      "cell_type": "code",
      "execution_count": 3,
      "metadata": {
        "colab": {
          "base_uri": "https://localhost:8080/"
        },
        "id": "Z2oro9ZqG3HI",
        "outputId": "5cf5ef99-b348-47d4-8844-9e1ea6d1178f"
      },
      "outputs": [
        {
          "name": "stdout",
          "output_type": "stream",
          "text": [
            "key:\n",
            "tensor([[ 0.4700,  0.6500,  0.6000],\n",
            "        [ 0.6400,  0.5000, -0.5900],\n",
            "        [-0.0300, -0.4800, -0.8800],\n",
            "        [ 0.4300, -0.8300,  0.3500]])\n",
            "value:\n",
            "tensor([[-0.0700, -0.8800,  0.4700],\n",
            "        [ 0.3700, -0.9300, -0.0700],\n",
            "        [-0.2500, -0.7500,  0.6100],\n",
            "        [ 0.9400,  0.2000,  0.2800]])\n"
          ]
        }
      ],
      "source": [
        "torch.manual_seed(447)\n",
        "\n",
        "key = torch.randn(4, 3)\n",
        "key /= torch.norm(key, dim=1, keepdim=True)\n",
        "key.round_(decimals=2)\n",
        "\n",
        "value = torch.randn(4, 3)\n",
        "value /= torch.norm(value, dim=1, keepdim=True)\n",
        "value.round_(decimals=2)\n",
        "\n",
        "print(f'key:\\n{key}')\n",
        "print(f'value:\\n{value}')"
      ]
    },
    {
      "cell_type": "code",
      "execution_count": 4,
      "metadata": {
        "id": "GwAXAX6XHu8A"
      },
      "outputs": [],
      "source": [
        "def attention(query, key, value):\n",
        "    \"\"\"\n",
        "    Note that we remove scaling for simplicity.\n",
        "    \"\"\"\n",
        "    return F.scaled_dot_product_attention(query, key, value, scale=1)\n",
        "\n",
        "\n",
        "def check_query(query, target, key=key, value=value):\n",
        "    \"\"\"\n",
        "    Helper function for you to check if your query is close to the required target matrix.\n",
        "    \"\"\"\n",
        "    a_out = attention(query, key, value)\n",
        "    print(\"maximum absolute element-wise difference:\", (target - a_out).abs().max())"
      ]
    },
    {
      "cell_type": "markdown",
      "metadata": {
        "id": "-J1y16Y7Gix4"
      },
      "source": [
        "## 1.2. Selection via Attention"
      ]
    },
    {
      "cell_type": "code",
      "execution_count": 62,
      "metadata": {
        "id": "bVCedC4XgRf4"
      },
      "outputs": [
        {
          "name": "stdout",
          "output_type": "stream",
          "text": [
            "A:  tensor([[100340.0000,  27180.0000, -85410.0000, -12739.9941]])\n",
            "A':  tensor([[1., 0., 0., 0.]])\n",
            "O:  tensor([[-0.0700, -0.8800,  0.4700]])\n",
            "tensor([[47000.0000, 64999.9961, 60000.0039]])\n",
            "maximum absolute element-wise difference: tensor(0.)\n"
          ]
        }
      ],
      "source": [
        "# Define a query vector to ”select” the first value vector\n",
        "\n",
        "# TODO:\n",
        "S = 1e5\n",
        "query121 = S * key[0].unsqueeze(0)\n",
        "\n",
        "attn_weight = query121 @ key.transpose(-2, -1)\n",
        "print(\"A: \",attn_weight)\n",
        "attn_weight = torch.softmax(attn_weight, dim=-1)\n",
        "print(\"A': \", attn_weight)\n",
        "output = attn_weight @ value\n",
        "print(\"O: \", output)\n",
        "\n",
        "# compare output of attention with desired output\n",
        "print(query121)\n",
        "check_query(query121, value[0])"
      ]
    },
    {
      "cell_type": "code",
      "execution_count": 63,
      "metadata": {
        "id": "OiqQ78tfgRLc"
      },
      "outputs": [
        {
          "name": "stdout",
          "output_type": "stream",
          "text": [
            "A:  tensor([[100340.0000,  27180.0000, -85410.0000, -12739.9951],\n",
            "        [ 27180.0000, 100770.0000,  25999.9961, -34630.0000],\n",
            "        [-85410.0000,  25999.9980, 100570.0000,   7750.0005],\n",
            "        [-12739.9951, -34630.0000,   7750.0000,  99630.0000]])\n",
            "A':  tensor([[1., 0., 0., 0.],\n",
            "        [0., 1., 0., 0.],\n",
            "        [0., 0., 1., 0.],\n",
            "        [0., 0., 0., 1.]])\n",
            "O:  tensor([[-0.0700, -0.8800,  0.4700],\n",
            "        [ 0.3700, -0.9300, -0.0700],\n",
            "        [-0.2500, -0.7500,  0.6100],\n",
            "        [ 0.9400,  0.2000,  0.2800]])\n",
            "tensor([[ 47000.0000,  64999.9961,  60000.0039],\n",
            "        [ 64000.0000,  50000.0000, -58999.9961],\n",
            "        [ -3000.0000, -48000.0000, -88000.0000],\n",
            "        [ 43000.0000, -83000.0000,  35000.0000]])\n",
            "maximum absolute element-wise difference: tensor(0.)\n"
          ]
        }
      ],
      "source": [
        "# Define a query matrix which results in an identity mapping – select all the value vectors\n",
        "\n",
        "# TODO:\n",
        "S = 1e5\n",
        "query122 = S * key\n",
        "\n",
        "attn_weight = query122 @ key.transpose(-2, -1)\n",
        "print(\"A: \",attn_weight)\n",
        "attn_weight = torch.softmax(attn_weight, dim=-1)\n",
        "print(\"A': \", attn_weight)\n",
        "output = attn_weight @ value\n",
        "print(\"O: \", output)\n",
        "\n",
        "# compare output of attention with desired output\n",
        "print(query122)\n",
        "check_query(query122, value)"
      ]
    },
    {
      "cell_type": "markdown",
      "metadata": {
        "id": "BKyVfgcqImGr"
      },
      "source": [
        "## 1.3. Averaging via Attention"
      ]
    },
    {
      "cell_type": "code",
      "execution_count": 78,
      "metadata": {
        "id": "zaE-R68BMT5e"
      },
      "outputs": [
        {
          "name": "stdout",
          "output_type": "stream",
          "text": [
            "A:  tensor([[0.0007, 0.0030, 0.0012, 0.0015]])\n",
            "A':  tensor([[0.2498, 0.2503, 0.2499, 0.2500]])\n",
            "O:  tensor([[ 0.2476, -0.5901,  0.3223]])\n",
            "tensor([[ 0.0038, -0.0004, -0.0013]])\n",
            "maximum absolute element-wise difference: tensor(0.0002)\n"
          ]
        }
      ],
      "source": [
        "# define a query vector which averages all the value vectors\n",
        "\n",
        "# TODO:\n",
        "S = 1e-2\n",
        "query131 = torch.mean(S * key, dim=0).unsqueeze(0)\n",
        "\n",
        "attn_weight = query131 @ key.transpose(-2, -1)\n",
        "print(\"A: \",attn_weight)\n",
        "attn_weight = torch.softmax(attn_weight, dim=-1)\n",
        "print(\"A': \", attn_weight)\n",
        "output = attn_weight @ value\n",
        "print(\"O: \", output)\n",
        "\n",
        "# compare output of attention with desired output\n",
        "print(query131)\n",
        "target = torch.reshape(value.mean(0, keepdims=True), (3,))  # reshape to a vector\n",
        "check_query(query131, target)"
      ]
    },
    {
      "cell_type": "code",
      "execution_count": 100,
      "metadata": {
        "id": "jQKXRVuEhgZZ"
      },
      "outputs": [
        {
          "name": "stdout",
          "output_type": "stream",
          "text": [
            "A:  tensor([[ 5.1008,  5.1180, -2.3764, -1.8948]])\n",
            "A':  tensor([[4.9534e-01, 5.0393e-01, 2.8028e-04, 4.5368e-04]])\n",
            "O:  tensor([[ 0.1521, -0.9047,  0.1978]])\n",
            "tensor([[4.4400, 4.6000, 0.0400]])\n",
            "maximum absolute element-wise difference: tensor(0.0022)\n"
          ]
        }
      ],
      "source": [
        "# define a query vector which averages the first two value vectors\n",
        "\n",
        "# TODO:\n",
        "S = 8\n",
        "query132 = torch.mean(S * key[:2], dim=0).unsqueeze(0)\n",
        "\n",
        "attn_weight = query132 @ key.transpose(-2, -1)\n",
        "print(\"A: \",attn_weight)\n",
        "attn_weight = torch.softmax(attn_weight, dim=-1)\n",
        "print(\"A': \", attn_weight)\n",
        "output = attn_weight @ value\n",
        "print(\"O: \", output)\n",
        "\n",
        "# compare output of attention with desired output\n",
        "print(query132)\n",
        "target = torch.reshape(value[(0, 1),].mean(0, keepdims=True), (3,))  # reshape to a vector\n",
        "check_query(query132, target)"
      ]
    },
    {
      "cell_type": "markdown",
      "metadata": {
        "id": "wcqbi9hbIqb6"
      },
      "source": [
        "## 1.4. Interactions within Attention"
      ]
    },
    {
      "cell_type": "code",
      "execution_count": null,
      "metadata": {
        "id": "5ax_OQnjKxwW"
      },
      "outputs": [],
      "source": [
        "# Define a replacement for only the third key vector k[2] such that the result of attention\n",
        "# with the same unchanged query q from (1.3.2) averages the first three value vectors.\n",
        "m_key = key.clone()\n",
        "\n",
        "# TODO:\n",
        "m_key[2] =\n",
        "\n",
        "# compare output of attention with desired output\n",
        "check_query(query132, value[(0, 1, 2),].mean(0, keepdims=True), key=m_key)"
      ]
    },
    {
      "cell_type": "code",
      "execution_count": null,
      "metadata": {
        "id": "-LF7F1yRJLjK"
      },
      "outputs": [],
      "source": [
        "# Define a replacement for only the third key vector k[2] such that the result of attention\n",
        "# with the same unchanged query q from (1.3.2) returns the third value vector v[2].\n",
        "m_key = key.clone()\n",
        "\n",
        "# TODO:\n",
        "m_key[2] =\n",
        "m_key[2] /= m_key[2].norm()\n",
        "\n",
        "# compare output of attention with desired output\n",
        "check_query(query132, value[2], key=m_key)"
      ]
    }
  ],
  "metadata": {
    "colab": {
      "provenance": []
    },
    "kernelspec": {
      "display_name": "Python 3",
      "name": "python3"
    },
    "language_info": {
      "codemirror_mode": {
        "name": "ipython",
        "version": 3
      },
      "file_extension": ".py",
      "mimetype": "text/x-python",
      "name": "python",
      "nbconvert_exporter": "python",
      "pygments_lexer": "ipython3",
      "version": "3.11.5"
    }
  },
  "nbformat": 4,
  "nbformat_minor": 0
}
