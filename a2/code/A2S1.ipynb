{
  "nbformat": 4,
  "nbformat_minor": 0,
  "metadata": {
    "colab": {
      "provenance": []
    },
    "kernelspec": {
      "name": "python3",
      "display_name": "Python 3"
    },
    "language_info": {
      "name": "python"
    }
  },
  "cells": [
    {
      "cell_type": "markdown",
      "source": [
        "# 1. Understanding Attention\n",
        "\n",
        "- Before running the jupyter notebook, don't forget to copy it into your drive **(`File` => `Save a copy in Drive`)**. *Failing to do this step may result in losing the progress of your code.*\n",
        "- For this notebook, please fill in the line(s) directly after a `#TODO` comment with your answers.\n",
        "- For the submission of the assignment, please download this notebook as a **Python file**, named `A2S1.py`."
      ],
      "metadata": {
        "id": "Oewn7nm0gSo0"
      }
    },
    {
      "cell_type": "markdown",
      "source": [
        "## Imports and Setup"
      ],
      "metadata": {
        "id": "0dr9R_7hGvHN"
      }
    },
    {
      "cell_type": "code",
      "source": [
        "import torch\n",
        "import torch.nn as nn\n",
        "import torch.nn.functional as F"
      ],
      "metadata": {
        "id": "5IgrbAcuGut3"
      },
      "execution_count": null,
      "outputs": []
    },
    {
      "cell_type": "code",
      "source": [
        "torch.manual_seed(447)\n",
        "\n",
        "key = torch.randn(4, 3)\n",
        "key /= torch.norm(key, dim=1, keepdim=True)\n",
        "key.round_(decimals=2)\n",
        "\n",
        "value = torch.randn(4, 3)\n",
        "value /= torch.norm(value, dim=1, keepdim=True)\n",
        "value.round_(decimals=2)\n",
        "\n",
        "print(f'key:\\n{key}')\n",
        "print(f'value:\\n{value}')"
      ],
      "metadata": {
        "colab": {
          "base_uri": "https://localhost:8080/"
        },
        "id": "Z2oro9ZqG3HI",
        "outputId": "5cf5ef99-b348-47d4-8844-9e1ea6d1178f"
      },
      "execution_count": null,
      "outputs": [
        {
          "output_type": "stream",
          "name": "stdout",
          "text": [
            "key:\n",
            "tensor([[ 0.4700,  0.6500,  0.6000],\n",
            "        [ 0.6400,  0.5000, -0.5900],\n",
            "        [-0.0300, -0.4800, -0.8800],\n",
            "        [ 0.4300, -0.8300,  0.3500]])\n",
            "value:\n",
            "tensor([[-0.0700, -0.8800,  0.4700],\n",
            "        [ 0.3700, -0.9300, -0.0700],\n",
            "        [-0.2500, -0.7500,  0.6100],\n",
            "        [ 0.9400,  0.2000,  0.2800]])\n"
          ]
        }
      ]
    },
    {
      "cell_type": "code",
      "source": [
        "def attention(query, key, value):\n",
        "    \"\"\"\n",
        "    Note that we remove scaling for simplicity.\n",
        "    \"\"\"\n",
        "    return F.scaled_dot_product_attention(query, key, value, scale=1)\n",
        "\n",
        "\n",
        "def check_query(query, target, key=key, value=value):\n",
        "    \"\"\"\n",
        "    Helper function for you to check if your query is close to the required target matrix.\n",
        "    \"\"\"\n",
        "    a_out = attention(query, key, value)\n",
        "    print(\"maximum absolute element-wise difference:\", (target - a_out).abs().max())"
      ],
      "metadata": {
        "id": "GwAXAX6XHu8A"
      },
      "execution_count": null,
      "outputs": []
    },
    {
      "cell_type": "markdown",
      "source": [
        "## 1.2. Selection via Attention"
      ],
      "metadata": {
        "id": "-J1y16Y7Gix4"
      }
    },
    {
      "cell_type": "code",
      "source": [
        "# Define a query vector to ”select” the first value vector\n",
        "\n",
        "# TODO:\n",
        "query121 =\n",
        "\n",
        "# compare output of attention with desired output\n",
        "print(query121)\n",
        "check_query(query121, value[0])"
      ],
      "metadata": {
        "id": "bVCedC4XgRf4"
      },
      "execution_count": null,
      "outputs": []
    },
    {
      "cell_type": "code",
      "source": [
        "# Define a query matrix which results in an identity mapping – select all the value vectors\n",
        "\n",
        "# TODO:\n",
        "query122 =\n",
        "\n",
        "# compare output of attention with desired output\n",
        "print(query122)\n",
        "check_query(query122, value)"
      ],
      "metadata": {
        "id": "OiqQ78tfgRLc"
      },
      "execution_count": null,
      "outputs": []
    },
    {
      "cell_type": "markdown",
      "source": [
        "## 1.3. Averaging via Attention"
      ],
      "metadata": {
        "id": "BKyVfgcqImGr"
      }
    },
    {
      "cell_type": "code",
      "source": [
        "# define a query vector which averages all the value vectors\n",
        "\n",
        "# TODO:\n",
        "query131 =\n",
        "\n",
        "# compare output of attention with desired output\n",
        "print(query131)\n",
        "target = torch.reshape(value.mean(0, keepdims=True), (3,))  # reshape to a vector\n",
        "check_query(query131, target)"
      ],
      "metadata": {
        "id": "zaE-R68BMT5e"
      },
      "execution_count": null,
      "outputs": []
    },
    {
      "cell_type": "code",
      "source": [
        "# define a query vector which averages the first two value vectors\n",
        "\n",
        "# TODO:\n",
        "query132 =\n",
        "\n",
        "# compare output of attention with desired output\n",
        "print(query132)\n",
        "target = torch.reshape(value[(0, 1),].mean(0, keepdims=True), (3,))  # reshape to a vector\n",
        "check_query(query132, target)"
      ],
      "metadata": {
        "id": "jQKXRVuEhgZZ"
      },
      "execution_count": null,
      "outputs": []
    },
    {
      "cell_type": "markdown",
      "source": [
        "## 1.4. Interactions within Attention"
      ],
      "metadata": {
        "id": "wcqbi9hbIqb6"
      }
    },
    {
      "cell_type": "code",
      "source": [
        "# Define a replacement for only the third key vector k[2] such that the result of attention\n",
        "# with the same unchanged query q from (1.3.2) averages the first three value vectors.\n",
        "m_key = key.clone()\n",
        "\n",
        "# TODO:\n",
        "m_key[2] =\n",
        "\n",
        "# compare output of attention with desired output\n",
        "check_query(query132, value[(0, 1, 2),].mean(0, keepdims=True), key=m_key)"
      ],
      "metadata": {
        "id": "5ax_OQnjKxwW"
      },
      "execution_count": null,
      "outputs": []
    },
    {
      "cell_type": "code",
      "source": [
        "# Define a replacement for only the third key vector k[2] such that the result of attention\n",
        "# with the same unchanged query q from (1.3.2) returns the third value vector v[2].\n",
        "m_key = key.clone()\n",
        "\n",
        "# TODO:\n",
        "m_key[2] =\n",
        "m_key[2] /= m_key[2].norm()\n",
        "\n",
        "# compare output of attention with desired output\n",
        "check_query(query132, value[2], key=m_key)"
      ],
      "metadata": {
        "id": "-LF7F1yRJLjK"
      },
      "execution_count": null,
      "outputs": []
    }
  ]
}