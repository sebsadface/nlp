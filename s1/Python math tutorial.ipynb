{
  "nbformat": 4,
  "nbformat_minor": 0,
  "metadata": {
    "colab": {
      "provenance": [],
      "collapsed_sections": [
        "_FQ3Pg6l3OQR"
      ],
      "gpuType": "T4"
    },
    "kernelspec": {
      "name": "python3",
      "display_name": "Python 3"
    },
    "language_info": {
      "name": "python"
    },
    "accelerator": "GPU",
    "widgets": {
      "application/vnd.jupyter.widget-state+json": {
        "6275c708516f467099dc7f61b84d2df7": {
          "model_module": "@jupyter-widgets/controls",
          "model_name": "HBoxModel",
          "model_module_version": "1.5.0",
          "state": {
            "_dom_classes": [],
            "_model_module": "@jupyter-widgets/controls",
            "_model_module_version": "1.5.0",
            "_model_name": "HBoxModel",
            "_view_count": null,
            "_view_module": "@jupyter-widgets/controls",
            "_view_module_version": "1.5.0",
            "_view_name": "HBoxView",
            "box_style": "",
            "children": [
              "IPY_MODEL_b6d92d64c99043f7af2a1b8c8faa818c",
              "IPY_MODEL_7d83c1eae01c4b9ea8a81d278ba18dcf",
              "IPY_MODEL_159f750ac87d47eda4872ec4fced4ee6"
            ],
            "layout": "IPY_MODEL_c8d0bca293db43be90af11370d21e425"
          }
        },
        "b6d92d64c99043f7af2a1b8c8faa818c": {
          "model_module": "@jupyter-widgets/controls",
          "model_name": "HTMLModel",
          "model_module_version": "1.5.0",
          "state": {
            "_dom_classes": [],
            "_model_module": "@jupyter-widgets/controls",
            "_model_module_version": "1.5.0",
            "_model_name": "HTMLModel",
            "_view_count": null,
            "_view_module": "@jupyter-widgets/controls",
            "_view_module_version": "1.5.0",
            "_view_name": "HTMLView",
            "description": "",
            "description_tooltip": null,
            "layout": "IPY_MODEL_5ffdbc3b4a7342ecb8c2f0d7e19f3370",
            "placeholder": "​",
            "style": "IPY_MODEL_282d7590a1a048f29b9bf48e10032aa2",
            "value": "config.json: 100%"
          }
        },
        "7d83c1eae01c4b9ea8a81d278ba18dcf": {
          "model_module": "@jupyter-widgets/controls",
          "model_name": "FloatProgressModel",
          "model_module_version": "1.5.0",
          "state": {
            "_dom_classes": [],
            "_model_module": "@jupyter-widgets/controls",
            "_model_module_version": "1.5.0",
            "_model_name": "FloatProgressModel",
            "_view_count": null,
            "_view_module": "@jupyter-widgets/controls",
            "_view_module_version": "1.5.0",
            "_view_name": "ProgressView",
            "bar_style": "success",
            "description": "",
            "description_tooltip": null,
            "layout": "IPY_MODEL_b08f57b49abd4399ad5cd7cf3af8127a",
            "max": 665,
            "min": 0,
            "orientation": "horizontal",
            "style": "IPY_MODEL_0d9acad9238d4156ae7ede36b8b68df4",
            "value": 665
          }
        },
        "159f750ac87d47eda4872ec4fced4ee6": {
          "model_module": "@jupyter-widgets/controls",
          "model_name": "HTMLModel",
          "model_module_version": "1.5.0",
          "state": {
            "_dom_classes": [],
            "_model_module": "@jupyter-widgets/controls",
            "_model_module_version": "1.5.0",
            "_model_name": "HTMLModel",
            "_view_count": null,
            "_view_module": "@jupyter-widgets/controls",
            "_view_module_version": "1.5.0",
            "_view_name": "HTMLView",
            "description": "",
            "description_tooltip": null,
            "layout": "IPY_MODEL_81e494087bdb4e55a4c6823736be6291",
            "placeholder": "​",
            "style": "IPY_MODEL_845c81b90ba44bc2aadb005368a82d9e",
            "value": " 665/665 [00:00&lt;00:00, 40.7kB/s]"
          }
        },
        "c8d0bca293db43be90af11370d21e425": {
          "model_module": "@jupyter-widgets/base",
          "model_name": "LayoutModel",
          "model_module_version": "1.2.0",
          "state": {
            "_model_module": "@jupyter-widgets/base",
            "_model_module_version": "1.2.0",
            "_model_name": "LayoutModel",
            "_view_count": null,
            "_view_module": "@jupyter-widgets/base",
            "_view_module_version": "1.2.0",
            "_view_name": "LayoutView",
            "align_content": null,
            "align_items": null,
            "align_self": null,
            "border": null,
            "bottom": null,
            "display": null,
            "flex": null,
            "flex_flow": null,
            "grid_area": null,
            "grid_auto_columns": null,
            "grid_auto_flow": null,
            "grid_auto_rows": null,
            "grid_column": null,
            "grid_gap": null,
            "grid_row": null,
            "grid_template_areas": null,
            "grid_template_columns": null,
            "grid_template_rows": null,
            "height": null,
            "justify_content": null,
            "justify_items": null,
            "left": null,
            "margin": null,
            "max_height": null,
            "max_width": null,
            "min_height": null,
            "min_width": null,
            "object_fit": null,
            "object_position": null,
            "order": null,
            "overflow": null,
            "overflow_x": null,
            "overflow_y": null,
            "padding": null,
            "right": null,
            "top": null,
            "visibility": null,
            "width": null
          }
        },
        "5ffdbc3b4a7342ecb8c2f0d7e19f3370": {
          "model_module": "@jupyter-widgets/base",
          "model_name": "LayoutModel",
          "model_module_version": "1.2.0",
          "state": {
            "_model_module": "@jupyter-widgets/base",
            "_model_module_version": "1.2.0",
            "_model_name": "LayoutModel",
            "_view_count": null,
            "_view_module": "@jupyter-widgets/base",
            "_view_module_version": "1.2.0",
            "_view_name": "LayoutView",
            "align_content": null,
            "align_items": null,
            "align_self": null,
            "border": null,
            "bottom": null,
            "display": null,
            "flex": null,
            "flex_flow": null,
            "grid_area": null,
            "grid_auto_columns": null,
            "grid_auto_flow": null,
            "grid_auto_rows": null,
            "grid_column": null,
            "grid_gap": null,
            "grid_row": null,
            "grid_template_areas": null,
            "grid_template_columns": null,
            "grid_template_rows": null,
            "height": null,
            "justify_content": null,
            "justify_items": null,
            "left": null,
            "margin": null,
            "max_height": null,
            "max_width": null,
            "min_height": null,
            "min_width": null,
            "object_fit": null,
            "object_position": null,
            "order": null,
            "overflow": null,
            "overflow_x": null,
            "overflow_y": null,
            "padding": null,
            "right": null,
            "top": null,
            "visibility": null,
            "width": null
          }
        },
        "282d7590a1a048f29b9bf48e10032aa2": {
          "model_module": "@jupyter-widgets/controls",
          "model_name": "DescriptionStyleModel",
          "model_module_version": "1.5.0",
          "state": {
            "_model_module": "@jupyter-widgets/controls",
            "_model_module_version": "1.5.0",
            "_model_name": "DescriptionStyleModel",
            "_view_count": null,
            "_view_module": "@jupyter-widgets/base",
            "_view_module_version": "1.2.0",
            "_view_name": "StyleView",
            "description_width": ""
          }
        },
        "b08f57b49abd4399ad5cd7cf3af8127a": {
          "model_module": "@jupyter-widgets/base",
          "model_name": "LayoutModel",
          "model_module_version": "1.2.0",
          "state": {
            "_model_module": "@jupyter-widgets/base",
            "_model_module_version": "1.2.0",
            "_model_name": "LayoutModel",
            "_view_count": null,
            "_view_module": "@jupyter-widgets/base",
            "_view_module_version": "1.2.0",
            "_view_name": "LayoutView",
            "align_content": null,
            "align_items": null,
            "align_self": null,
            "border": null,
            "bottom": null,
            "display": null,
            "flex": null,
            "flex_flow": null,
            "grid_area": null,
            "grid_auto_columns": null,
            "grid_auto_flow": null,
            "grid_auto_rows": null,
            "grid_column": null,
            "grid_gap": null,
            "grid_row": null,
            "grid_template_areas": null,
            "grid_template_columns": null,
            "grid_template_rows": null,
            "height": null,
            "justify_content": null,
            "justify_items": null,
            "left": null,
            "margin": null,
            "max_height": null,
            "max_width": null,
            "min_height": null,
            "min_width": null,
            "object_fit": null,
            "object_position": null,
            "order": null,
            "overflow": null,
            "overflow_x": null,
            "overflow_y": null,
            "padding": null,
            "right": null,
            "top": null,
            "visibility": null,
            "width": null
          }
        },
        "0d9acad9238d4156ae7ede36b8b68df4": {
          "model_module": "@jupyter-widgets/controls",
          "model_name": "ProgressStyleModel",
          "model_module_version": "1.5.0",
          "state": {
            "_model_module": "@jupyter-widgets/controls",
            "_model_module_version": "1.5.0",
            "_model_name": "ProgressStyleModel",
            "_view_count": null,
            "_view_module": "@jupyter-widgets/base",
            "_view_module_version": "1.2.0",
            "_view_name": "StyleView",
            "bar_color": null,
            "description_width": ""
          }
        },
        "81e494087bdb4e55a4c6823736be6291": {
          "model_module": "@jupyter-widgets/base",
          "model_name": "LayoutModel",
          "model_module_version": "1.2.0",
          "state": {
            "_model_module": "@jupyter-widgets/base",
            "_model_module_version": "1.2.0",
            "_model_name": "LayoutModel",
            "_view_count": null,
            "_view_module": "@jupyter-widgets/base",
            "_view_module_version": "1.2.0",
            "_view_name": "LayoutView",
            "align_content": null,
            "align_items": null,
            "align_self": null,
            "border": null,
            "bottom": null,
            "display": null,
            "flex": null,
            "flex_flow": null,
            "grid_area": null,
            "grid_auto_columns": null,
            "grid_auto_flow": null,
            "grid_auto_rows": null,
            "grid_column": null,
            "grid_gap": null,
            "grid_row": null,
            "grid_template_areas": null,
            "grid_template_columns": null,
            "grid_template_rows": null,
            "height": null,
            "justify_content": null,
            "justify_items": null,
            "left": null,
            "margin": null,
            "max_height": null,
            "max_width": null,
            "min_height": null,
            "min_width": null,
            "object_fit": null,
            "object_position": null,
            "order": null,
            "overflow": null,
            "overflow_x": null,
            "overflow_y": null,
            "padding": null,
            "right": null,
            "top": null,
            "visibility": null,
            "width": null
          }
        },
        "845c81b90ba44bc2aadb005368a82d9e": {
          "model_module": "@jupyter-widgets/controls",
          "model_name": "DescriptionStyleModel",
          "model_module_version": "1.5.0",
          "state": {
            "_model_module": "@jupyter-widgets/controls",
            "_model_module_version": "1.5.0",
            "_model_name": "DescriptionStyleModel",
            "_view_count": null,
            "_view_module": "@jupyter-widgets/base",
            "_view_module_version": "1.2.0",
            "_view_name": "StyleView",
            "description_width": ""
          }
        },
        "79a7b2266e66407b8abff0ad9ece6829": {
          "model_module": "@jupyter-widgets/controls",
          "model_name": "HBoxModel",
          "model_module_version": "1.5.0",
          "state": {
            "_dom_classes": [],
            "_model_module": "@jupyter-widgets/controls",
            "_model_module_version": "1.5.0",
            "_model_name": "HBoxModel",
            "_view_count": null,
            "_view_module": "@jupyter-widgets/controls",
            "_view_module_version": "1.5.0",
            "_view_name": "HBoxView",
            "box_style": "",
            "children": [
              "IPY_MODEL_10a061c5769f46f883c9401d101451f8",
              "IPY_MODEL_1138ee932f2b4a8c895458891009ee32",
              "IPY_MODEL_afdc45dd00e444c696858c630d7560e7"
            ],
            "layout": "IPY_MODEL_3c3216c4281341d4aa631a68ad9f22db"
          }
        },
        "10a061c5769f46f883c9401d101451f8": {
          "model_module": "@jupyter-widgets/controls",
          "model_name": "HTMLModel",
          "model_module_version": "1.5.0",
          "state": {
            "_dom_classes": [],
            "_model_module": "@jupyter-widgets/controls",
            "_model_module_version": "1.5.0",
            "_model_name": "HTMLModel",
            "_view_count": null,
            "_view_module": "@jupyter-widgets/controls",
            "_view_module_version": "1.5.0",
            "_view_name": "HTMLView",
            "description": "",
            "description_tooltip": null,
            "layout": "IPY_MODEL_f73546c073f1407f8e24edbf9320238d",
            "placeholder": "​",
            "style": "IPY_MODEL_b99bf660979f419a978632aab169de61",
            "value": "vocab.json: 100%"
          }
        },
        "1138ee932f2b4a8c895458891009ee32": {
          "model_module": "@jupyter-widgets/controls",
          "model_name": "FloatProgressModel",
          "model_module_version": "1.5.0",
          "state": {
            "_dom_classes": [],
            "_model_module": "@jupyter-widgets/controls",
            "_model_module_version": "1.5.0",
            "_model_name": "FloatProgressModel",
            "_view_count": null,
            "_view_module": "@jupyter-widgets/controls",
            "_view_module_version": "1.5.0",
            "_view_name": "ProgressView",
            "bar_style": "success",
            "description": "",
            "description_tooltip": null,
            "layout": "IPY_MODEL_c002ba32968941ae84f8cd2a3787fdbb",
            "max": 1042301,
            "min": 0,
            "orientation": "horizontal",
            "style": "IPY_MODEL_89ecc662a712484aafaaa90a99e1b3e9",
            "value": 1042301
          }
        },
        "afdc45dd00e444c696858c630d7560e7": {
          "model_module": "@jupyter-widgets/controls",
          "model_name": "HTMLModel",
          "model_module_version": "1.5.0",
          "state": {
            "_dom_classes": [],
            "_model_module": "@jupyter-widgets/controls",
            "_model_module_version": "1.5.0",
            "_model_name": "HTMLModel",
            "_view_count": null,
            "_view_module": "@jupyter-widgets/controls",
            "_view_module_version": "1.5.0",
            "_view_name": "HTMLView",
            "description": "",
            "description_tooltip": null,
            "layout": "IPY_MODEL_f1ef79ba777340f9a905854190d1af9b",
            "placeholder": "​",
            "style": "IPY_MODEL_5df6c51b6c9e44c0b5dda2c53e4aef7e",
            "value": " 1.04M/1.04M [00:00&lt;00:00, 13.7MB/s]"
          }
        },
        "3c3216c4281341d4aa631a68ad9f22db": {
          "model_module": "@jupyter-widgets/base",
          "model_name": "LayoutModel",
          "model_module_version": "1.2.0",
          "state": {
            "_model_module": "@jupyter-widgets/base",
            "_model_module_version": "1.2.0",
            "_model_name": "LayoutModel",
            "_view_count": null,
            "_view_module": "@jupyter-widgets/base",
            "_view_module_version": "1.2.0",
            "_view_name": "LayoutView",
            "align_content": null,
            "align_items": null,
            "align_self": null,
            "border": null,
            "bottom": null,
            "display": null,
            "flex": null,
            "flex_flow": null,
            "grid_area": null,
            "grid_auto_columns": null,
            "grid_auto_flow": null,
            "grid_auto_rows": null,
            "grid_column": null,
            "grid_gap": null,
            "grid_row": null,
            "grid_template_areas": null,
            "grid_template_columns": null,
            "grid_template_rows": null,
            "height": null,
            "justify_content": null,
            "justify_items": null,
            "left": null,
            "margin": null,
            "max_height": null,
            "max_width": null,
            "min_height": null,
            "min_width": null,
            "object_fit": null,
            "object_position": null,
            "order": null,
            "overflow": null,
            "overflow_x": null,
            "overflow_y": null,
            "padding": null,
            "right": null,
            "top": null,
            "visibility": null,
            "width": null
          }
        },
        "f73546c073f1407f8e24edbf9320238d": {
          "model_module": "@jupyter-widgets/base",
          "model_name": "LayoutModel",
          "model_module_version": "1.2.0",
          "state": {
            "_model_module": "@jupyter-widgets/base",
            "_model_module_version": "1.2.0",
            "_model_name": "LayoutModel",
            "_view_count": null,
            "_view_module": "@jupyter-widgets/base",
            "_view_module_version": "1.2.0",
            "_view_name": "LayoutView",
            "align_content": null,
            "align_items": null,
            "align_self": null,
            "border": null,
            "bottom": null,
            "display": null,
            "flex": null,
            "flex_flow": null,
            "grid_area": null,
            "grid_auto_columns": null,
            "grid_auto_flow": null,
            "grid_auto_rows": null,
            "grid_column": null,
            "grid_gap": null,
            "grid_row": null,
            "grid_template_areas": null,
            "grid_template_columns": null,
            "grid_template_rows": null,
            "height": null,
            "justify_content": null,
            "justify_items": null,
            "left": null,
            "margin": null,
            "max_height": null,
            "max_width": null,
            "min_height": null,
            "min_width": null,
            "object_fit": null,
            "object_position": null,
            "order": null,
            "overflow": null,
            "overflow_x": null,
            "overflow_y": null,
            "padding": null,
            "right": null,
            "top": null,
            "visibility": null,
            "width": null
          }
        },
        "b99bf660979f419a978632aab169de61": {
          "model_module": "@jupyter-widgets/controls",
          "model_name": "DescriptionStyleModel",
          "model_module_version": "1.5.0",
          "state": {
            "_model_module": "@jupyter-widgets/controls",
            "_model_module_version": "1.5.0",
            "_model_name": "DescriptionStyleModel",
            "_view_count": null,
            "_view_module": "@jupyter-widgets/base",
            "_view_module_version": "1.2.0",
            "_view_name": "StyleView",
            "description_width": ""
          }
        },
        "c002ba32968941ae84f8cd2a3787fdbb": {
          "model_module": "@jupyter-widgets/base",
          "model_name": "LayoutModel",
          "model_module_version": "1.2.0",
          "state": {
            "_model_module": "@jupyter-widgets/base",
            "_model_module_version": "1.2.0",
            "_model_name": "LayoutModel",
            "_view_count": null,
            "_view_module": "@jupyter-widgets/base",
            "_view_module_version": "1.2.0",
            "_view_name": "LayoutView",
            "align_content": null,
            "align_items": null,
            "align_self": null,
            "border": null,
            "bottom": null,
            "display": null,
            "flex": null,
            "flex_flow": null,
            "grid_area": null,
            "grid_auto_columns": null,
            "grid_auto_flow": null,
            "grid_auto_rows": null,
            "grid_column": null,
            "grid_gap": null,
            "grid_row": null,
            "grid_template_areas": null,
            "grid_template_columns": null,
            "grid_template_rows": null,
            "height": null,
            "justify_content": null,
            "justify_items": null,
            "left": null,
            "margin": null,
            "max_height": null,
            "max_width": null,
            "min_height": null,
            "min_width": null,
            "object_fit": null,
            "object_position": null,
            "order": null,
            "overflow": null,
            "overflow_x": null,
            "overflow_y": null,
            "padding": null,
            "right": null,
            "top": null,
            "visibility": null,
            "width": null
          }
        },
        "89ecc662a712484aafaaa90a99e1b3e9": {
          "model_module": "@jupyter-widgets/controls",
          "model_name": "ProgressStyleModel",
          "model_module_version": "1.5.0",
          "state": {
            "_model_module": "@jupyter-widgets/controls",
            "_model_module_version": "1.5.0",
            "_model_name": "ProgressStyleModel",
            "_view_count": null,
            "_view_module": "@jupyter-widgets/base",
            "_view_module_version": "1.2.0",
            "_view_name": "StyleView",
            "bar_color": null,
            "description_width": ""
          }
        },
        "f1ef79ba777340f9a905854190d1af9b": {
          "model_module": "@jupyter-widgets/base",
          "model_name": "LayoutModel",
          "model_module_version": "1.2.0",
          "state": {
            "_model_module": "@jupyter-widgets/base",
            "_model_module_version": "1.2.0",
            "_model_name": "LayoutModel",
            "_view_count": null,
            "_view_module": "@jupyter-widgets/base",
            "_view_module_version": "1.2.0",
            "_view_name": "LayoutView",
            "align_content": null,
            "align_items": null,
            "align_self": null,
            "border": null,
            "bottom": null,
            "display": null,
            "flex": null,
            "flex_flow": null,
            "grid_area": null,
            "grid_auto_columns": null,
            "grid_auto_flow": null,
            "grid_auto_rows": null,
            "grid_column": null,
            "grid_gap": null,
            "grid_row": null,
            "grid_template_areas": null,
            "grid_template_columns": null,
            "grid_template_rows": null,
            "height": null,
            "justify_content": null,
            "justify_items": null,
            "left": null,
            "margin": null,
            "max_height": null,
            "max_width": null,
            "min_height": null,
            "min_width": null,
            "object_fit": null,
            "object_position": null,
            "order": null,
            "overflow": null,
            "overflow_x": null,
            "overflow_y": null,
            "padding": null,
            "right": null,
            "top": null,
            "visibility": null,
            "width": null
          }
        },
        "5df6c51b6c9e44c0b5dda2c53e4aef7e": {
          "model_module": "@jupyter-widgets/controls",
          "model_name": "DescriptionStyleModel",
          "model_module_version": "1.5.0",
          "state": {
            "_model_module": "@jupyter-widgets/controls",
            "_model_module_version": "1.5.0",
            "_model_name": "DescriptionStyleModel",
            "_view_count": null,
            "_view_module": "@jupyter-widgets/base",
            "_view_module_version": "1.2.0",
            "_view_name": "StyleView",
            "description_width": ""
          }
        },
        "ecc81ce6f94d4c7fb975afb6b6cfb93e": {
          "model_module": "@jupyter-widgets/controls",
          "model_name": "HBoxModel",
          "model_module_version": "1.5.0",
          "state": {
            "_dom_classes": [],
            "_model_module": "@jupyter-widgets/controls",
            "_model_module_version": "1.5.0",
            "_model_name": "HBoxModel",
            "_view_count": null,
            "_view_module": "@jupyter-widgets/controls",
            "_view_module_version": "1.5.0",
            "_view_name": "HBoxView",
            "box_style": "",
            "children": [
              "IPY_MODEL_021875a87cbf4f959f88eaa3251bb509",
              "IPY_MODEL_a25debc712d84420a22b676daf9af9d6",
              "IPY_MODEL_354a119c41764915bf2f0d07800a9c3a"
            ],
            "layout": "IPY_MODEL_66ce4b8292274bf5a5b39da8cc573973"
          }
        },
        "021875a87cbf4f959f88eaa3251bb509": {
          "model_module": "@jupyter-widgets/controls",
          "model_name": "HTMLModel",
          "model_module_version": "1.5.0",
          "state": {
            "_dom_classes": [],
            "_model_module": "@jupyter-widgets/controls",
            "_model_module_version": "1.5.0",
            "_model_name": "HTMLModel",
            "_view_count": null,
            "_view_module": "@jupyter-widgets/controls",
            "_view_module_version": "1.5.0",
            "_view_name": "HTMLView",
            "description": "",
            "description_tooltip": null,
            "layout": "IPY_MODEL_08a05bdd5d40408080d3981db91e7f97",
            "placeholder": "​",
            "style": "IPY_MODEL_67025c11e7fd405ebfc7a4a3f5094b14",
            "value": "merges.txt: 100%"
          }
        },
        "a25debc712d84420a22b676daf9af9d6": {
          "model_module": "@jupyter-widgets/controls",
          "model_name": "FloatProgressModel",
          "model_module_version": "1.5.0",
          "state": {
            "_dom_classes": [],
            "_model_module": "@jupyter-widgets/controls",
            "_model_module_version": "1.5.0",
            "_model_name": "FloatProgressModel",
            "_view_count": null,
            "_view_module": "@jupyter-widgets/controls",
            "_view_module_version": "1.5.0",
            "_view_name": "ProgressView",
            "bar_style": "success",
            "description": "",
            "description_tooltip": null,
            "layout": "IPY_MODEL_73f8df6c66594659916167602e1e65a1",
            "max": 456318,
            "min": 0,
            "orientation": "horizontal",
            "style": "IPY_MODEL_d022cec5c1034e6096e72ac72aee7d55",
            "value": 456318
          }
        },
        "354a119c41764915bf2f0d07800a9c3a": {
          "model_module": "@jupyter-widgets/controls",
          "model_name": "HTMLModel",
          "model_module_version": "1.5.0",
          "state": {
            "_dom_classes": [],
            "_model_module": "@jupyter-widgets/controls",
            "_model_module_version": "1.5.0",
            "_model_name": "HTMLModel",
            "_view_count": null,
            "_view_module": "@jupyter-widgets/controls",
            "_view_module_version": "1.5.0",
            "_view_name": "HTMLView",
            "description": "",
            "description_tooltip": null,
            "layout": "IPY_MODEL_3a4045d95f1345978042d5a99bd328e0",
            "placeholder": "​",
            "style": "IPY_MODEL_bc54dc5809e74096927317fd029f9b89",
            "value": " 456k/456k [00:00&lt;00:00, 21.5MB/s]"
          }
        },
        "66ce4b8292274bf5a5b39da8cc573973": {
          "model_module": "@jupyter-widgets/base",
          "model_name": "LayoutModel",
          "model_module_version": "1.2.0",
          "state": {
            "_model_module": "@jupyter-widgets/base",
            "_model_module_version": "1.2.0",
            "_model_name": "LayoutModel",
            "_view_count": null,
            "_view_module": "@jupyter-widgets/base",
            "_view_module_version": "1.2.0",
            "_view_name": "LayoutView",
            "align_content": null,
            "align_items": null,
            "align_self": null,
            "border": null,
            "bottom": null,
            "display": null,
            "flex": null,
            "flex_flow": null,
            "grid_area": null,
            "grid_auto_columns": null,
            "grid_auto_flow": null,
            "grid_auto_rows": null,
            "grid_column": null,
            "grid_gap": null,
            "grid_row": null,
            "grid_template_areas": null,
            "grid_template_columns": null,
            "grid_template_rows": null,
            "height": null,
            "justify_content": null,
            "justify_items": null,
            "left": null,
            "margin": null,
            "max_height": null,
            "max_width": null,
            "min_height": null,
            "min_width": null,
            "object_fit": null,
            "object_position": null,
            "order": null,
            "overflow": null,
            "overflow_x": null,
            "overflow_y": null,
            "padding": null,
            "right": null,
            "top": null,
            "visibility": null,
            "width": null
          }
        },
        "08a05bdd5d40408080d3981db91e7f97": {
          "model_module": "@jupyter-widgets/base",
          "model_name": "LayoutModel",
          "model_module_version": "1.2.0",
          "state": {
            "_model_module": "@jupyter-widgets/base",
            "_model_module_version": "1.2.0",
            "_model_name": "LayoutModel",
            "_view_count": null,
            "_view_module": "@jupyter-widgets/base",
            "_view_module_version": "1.2.0",
            "_view_name": "LayoutView",
            "align_content": null,
            "align_items": null,
            "align_self": null,
            "border": null,
            "bottom": null,
            "display": null,
            "flex": null,
            "flex_flow": null,
            "grid_area": null,
            "grid_auto_columns": null,
            "grid_auto_flow": null,
            "grid_auto_rows": null,
            "grid_column": null,
            "grid_gap": null,
            "grid_row": null,
            "grid_template_areas": null,
            "grid_template_columns": null,
            "grid_template_rows": null,
            "height": null,
            "justify_content": null,
            "justify_items": null,
            "left": null,
            "margin": null,
            "max_height": null,
            "max_width": null,
            "min_height": null,
            "min_width": null,
            "object_fit": null,
            "object_position": null,
            "order": null,
            "overflow": null,
            "overflow_x": null,
            "overflow_y": null,
            "padding": null,
            "right": null,
            "top": null,
            "visibility": null,
            "width": null
          }
        },
        "67025c11e7fd405ebfc7a4a3f5094b14": {
          "model_module": "@jupyter-widgets/controls",
          "model_name": "DescriptionStyleModel",
          "model_module_version": "1.5.0",
          "state": {
            "_model_module": "@jupyter-widgets/controls",
            "_model_module_version": "1.5.0",
            "_model_name": "DescriptionStyleModel",
            "_view_count": null,
            "_view_module": "@jupyter-widgets/base",
            "_view_module_version": "1.2.0",
            "_view_name": "StyleView",
            "description_width": ""
          }
        },
        "73f8df6c66594659916167602e1e65a1": {
          "model_module": "@jupyter-widgets/base",
          "model_name": "LayoutModel",
          "model_module_version": "1.2.0",
          "state": {
            "_model_module": "@jupyter-widgets/base",
            "_model_module_version": "1.2.0",
            "_model_name": "LayoutModel",
            "_view_count": null,
            "_view_module": "@jupyter-widgets/base",
            "_view_module_version": "1.2.0",
            "_view_name": "LayoutView",
            "align_content": null,
            "align_items": null,
            "align_self": null,
            "border": null,
            "bottom": null,
            "display": null,
            "flex": null,
            "flex_flow": null,
            "grid_area": null,
            "grid_auto_columns": null,
            "grid_auto_flow": null,
            "grid_auto_rows": null,
            "grid_column": null,
            "grid_gap": null,
            "grid_row": null,
            "grid_template_areas": null,
            "grid_template_columns": null,
            "grid_template_rows": null,
            "height": null,
            "justify_content": null,
            "justify_items": null,
            "left": null,
            "margin": null,
            "max_height": null,
            "max_width": null,
            "min_height": null,
            "min_width": null,
            "object_fit": null,
            "object_position": null,
            "order": null,
            "overflow": null,
            "overflow_x": null,
            "overflow_y": null,
            "padding": null,
            "right": null,
            "top": null,
            "visibility": null,
            "width": null
          }
        },
        "d022cec5c1034e6096e72ac72aee7d55": {
          "model_module": "@jupyter-widgets/controls",
          "model_name": "ProgressStyleModel",
          "model_module_version": "1.5.0",
          "state": {
            "_model_module": "@jupyter-widgets/controls",
            "_model_module_version": "1.5.0",
            "_model_name": "ProgressStyleModel",
            "_view_count": null,
            "_view_module": "@jupyter-widgets/base",
            "_view_module_version": "1.2.0",
            "_view_name": "StyleView",
            "bar_color": null,
            "description_width": ""
          }
        },
        "3a4045d95f1345978042d5a99bd328e0": {
          "model_module": "@jupyter-widgets/base",
          "model_name": "LayoutModel",
          "model_module_version": "1.2.0",
          "state": {
            "_model_module": "@jupyter-widgets/base",
            "_model_module_version": "1.2.0",
            "_model_name": "LayoutModel",
            "_view_count": null,
            "_view_module": "@jupyter-widgets/base",
            "_view_module_version": "1.2.0",
            "_view_name": "LayoutView",
            "align_content": null,
            "align_items": null,
            "align_self": null,
            "border": null,
            "bottom": null,
            "display": null,
            "flex": null,
            "flex_flow": null,
            "grid_area": null,
            "grid_auto_columns": null,
            "grid_auto_flow": null,
            "grid_auto_rows": null,
            "grid_column": null,
            "grid_gap": null,
            "grid_row": null,
            "grid_template_areas": null,
            "grid_template_columns": null,
            "grid_template_rows": null,
            "height": null,
            "justify_content": null,
            "justify_items": null,
            "left": null,
            "margin": null,
            "max_height": null,
            "max_width": null,
            "min_height": null,
            "min_width": null,
            "object_fit": null,
            "object_position": null,
            "order": null,
            "overflow": null,
            "overflow_x": null,
            "overflow_y": null,
            "padding": null,
            "right": null,
            "top": null,
            "visibility": null,
            "width": null
          }
        },
        "bc54dc5809e74096927317fd029f9b89": {
          "model_module": "@jupyter-widgets/controls",
          "model_name": "DescriptionStyleModel",
          "model_module_version": "1.5.0",
          "state": {
            "_model_module": "@jupyter-widgets/controls",
            "_model_module_version": "1.5.0",
            "_model_name": "DescriptionStyleModel",
            "_view_count": null,
            "_view_module": "@jupyter-widgets/base",
            "_view_module_version": "1.2.0",
            "_view_name": "StyleView",
            "description_width": ""
          }
        },
        "23178c8e1b4a4df181c9393268507364": {
          "model_module": "@jupyter-widgets/controls",
          "model_name": "HBoxModel",
          "model_module_version": "1.5.0",
          "state": {
            "_dom_classes": [],
            "_model_module": "@jupyter-widgets/controls",
            "_model_module_version": "1.5.0",
            "_model_name": "HBoxModel",
            "_view_count": null,
            "_view_module": "@jupyter-widgets/controls",
            "_view_module_version": "1.5.0",
            "_view_name": "HBoxView",
            "box_style": "",
            "children": [
              "IPY_MODEL_59b2340a755b4e12a26b72462f22cb01",
              "IPY_MODEL_630493bd41464a468e3ec9a065e25e93",
              "IPY_MODEL_9a70a2c1a82446c282e3d7c1df8c3d46"
            ],
            "layout": "IPY_MODEL_065006c831124b1daba3351c15d046a4"
          }
        },
        "59b2340a755b4e12a26b72462f22cb01": {
          "model_module": "@jupyter-widgets/controls",
          "model_name": "HTMLModel",
          "model_module_version": "1.5.0",
          "state": {
            "_dom_classes": [],
            "_model_module": "@jupyter-widgets/controls",
            "_model_module_version": "1.5.0",
            "_model_name": "HTMLModel",
            "_view_count": null,
            "_view_module": "@jupyter-widgets/controls",
            "_view_module_version": "1.5.0",
            "_view_name": "HTMLView",
            "description": "",
            "description_tooltip": null,
            "layout": "IPY_MODEL_07b8cf70b1e64b6d982141b5a6f5c908",
            "placeholder": "​",
            "style": "IPY_MODEL_cca3bb88ff0049c19fa458ffd15cb5ec",
            "value": "tokenizer.json: 100%"
          }
        },
        "630493bd41464a468e3ec9a065e25e93": {
          "model_module": "@jupyter-widgets/controls",
          "model_name": "FloatProgressModel",
          "model_module_version": "1.5.0",
          "state": {
            "_dom_classes": [],
            "_model_module": "@jupyter-widgets/controls",
            "_model_module_version": "1.5.0",
            "_model_name": "FloatProgressModel",
            "_view_count": null,
            "_view_module": "@jupyter-widgets/controls",
            "_view_module_version": "1.5.0",
            "_view_name": "ProgressView",
            "bar_style": "success",
            "description": "",
            "description_tooltip": null,
            "layout": "IPY_MODEL_9731f9517fc1475ea9e0ce9608193ad5",
            "max": 1355256,
            "min": 0,
            "orientation": "horizontal",
            "style": "IPY_MODEL_471fbdbafadb403a984cbd45471aae21",
            "value": 1355256
          }
        },
        "9a70a2c1a82446c282e3d7c1df8c3d46": {
          "model_module": "@jupyter-widgets/controls",
          "model_name": "HTMLModel",
          "model_module_version": "1.5.0",
          "state": {
            "_dom_classes": [],
            "_model_module": "@jupyter-widgets/controls",
            "_model_module_version": "1.5.0",
            "_model_name": "HTMLModel",
            "_view_count": null,
            "_view_module": "@jupyter-widgets/controls",
            "_view_module_version": "1.5.0",
            "_view_name": "HTMLView",
            "description": "",
            "description_tooltip": null,
            "layout": "IPY_MODEL_ec2da098d3b74e8697458dcd773391c1",
            "placeholder": "​",
            "style": "IPY_MODEL_b6b8610f90904808adf87e98d1a94db1",
            "value": " 1.36M/1.36M [00:00&lt;00:00, 44.3MB/s]"
          }
        },
        "065006c831124b1daba3351c15d046a4": {
          "model_module": "@jupyter-widgets/base",
          "model_name": "LayoutModel",
          "model_module_version": "1.2.0",
          "state": {
            "_model_module": "@jupyter-widgets/base",
            "_model_module_version": "1.2.0",
            "_model_name": "LayoutModel",
            "_view_count": null,
            "_view_module": "@jupyter-widgets/base",
            "_view_module_version": "1.2.0",
            "_view_name": "LayoutView",
            "align_content": null,
            "align_items": null,
            "align_self": null,
            "border": null,
            "bottom": null,
            "display": null,
            "flex": null,
            "flex_flow": null,
            "grid_area": null,
            "grid_auto_columns": null,
            "grid_auto_flow": null,
            "grid_auto_rows": null,
            "grid_column": null,
            "grid_gap": null,
            "grid_row": null,
            "grid_template_areas": null,
            "grid_template_columns": null,
            "grid_template_rows": null,
            "height": null,
            "justify_content": null,
            "justify_items": null,
            "left": null,
            "margin": null,
            "max_height": null,
            "max_width": null,
            "min_height": null,
            "min_width": null,
            "object_fit": null,
            "object_position": null,
            "order": null,
            "overflow": null,
            "overflow_x": null,
            "overflow_y": null,
            "padding": null,
            "right": null,
            "top": null,
            "visibility": null,
            "width": null
          }
        },
        "07b8cf70b1e64b6d982141b5a6f5c908": {
          "model_module": "@jupyter-widgets/base",
          "model_name": "LayoutModel",
          "model_module_version": "1.2.0",
          "state": {
            "_model_module": "@jupyter-widgets/base",
            "_model_module_version": "1.2.0",
            "_model_name": "LayoutModel",
            "_view_count": null,
            "_view_module": "@jupyter-widgets/base",
            "_view_module_version": "1.2.0",
            "_view_name": "LayoutView",
            "align_content": null,
            "align_items": null,
            "align_self": null,
            "border": null,
            "bottom": null,
            "display": null,
            "flex": null,
            "flex_flow": null,
            "grid_area": null,
            "grid_auto_columns": null,
            "grid_auto_flow": null,
            "grid_auto_rows": null,
            "grid_column": null,
            "grid_gap": null,
            "grid_row": null,
            "grid_template_areas": null,
            "grid_template_columns": null,
            "grid_template_rows": null,
            "height": null,
            "justify_content": null,
            "justify_items": null,
            "left": null,
            "margin": null,
            "max_height": null,
            "max_width": null,
            "min_height": null,
            "min_width": null,
            "object_fit": null,
            "object_position": null,
            "order": null,
            "overflow": null,
            "overflow_x": null,
            "overflow_y": null,
            "padding": null,
            "right": null,
            "top": null,
            "visibility": null,
            "width": null
          }
        },
        "cca3bb88ff0049c19fa458ffd15cb5ec": {
          "model_module": "@jupyter-widgets/controls",
          "model_name": "DescriptionStyleModel",
          "model_module_version": "1.5.0",
          "state": {
            "_model_module": "@jupyter-widgets/controls",
            "_model_module_version": "1.5.0",
            "_model_name": "DescriptionStyleModel",
            "_view_count": null,
            "_view_module": "@jupyter-widgets/base",
            "_view_module_version": "1.2.0",
            "_view_name": "StyleView",
            "description_width": ""
          }
        },
        "9731f9517fc1475ea9e0ce9608193ad5": {
          "model_module": "@jupyter-widgets/base",
          "model_name": "LayoutModel",
          "model_module_version": "1.2.0",
          "state": {
            "_model_module": "@jupyter-widgets/base",
            "_model_module_version": "1.2.0",
            "_model_name": "LayoutModel",
            "_view_count": null,
            "_view_module": "@jupyter-widgets/base",
            "_view_module_version": "1.2.0",
            "_view_name": "LayoutView",
            "align_content": null,
            "align_items": null,
            "align_self": null,
            "border": null,
            "bottom": null,
            "display": null,
            "flex": null,
            "flex_flow": null,
            "grid_area": null,
            "grid_auto_columns": null,
            "grid_auto_flow": null,
            "grid_auto_rows": null,
            "grid_column": null,
            "grid_gap": null,
            "grid_row": null,
            "grid_template_areas": null,
            "grid_template_columns": null,
            "grid_template_rows": null,
            "height": null,
            "justify_content": null,
            "justify_items": null,
            "left": null,
            "margin": null,
            "max_height": null,
            "max_width": null,
            "min_height": null,
            "min_width": null,
            "object_fit": null,
            "object_position": null,
            "order": null,
            "overflow": null,
            "overflow_x": null,
            "overflow_y": null,
            "padding": null,
            "right": null,
            "top": null,
            "visibility": null,
            "width": null
          }
        },
        "471fbdbafadb403a984cbd45471aae21": {
          "model_module": "@jupyter-widgets/controls",
          "model_name": "ProgressStyleModel",
          "model_module_version": "1.5.0",
          "state": {
            "_model_module": "@jupyter-widgets/controls",
            "_model_module_version": "1.5.0",
            "_model_name": "ProgressStyleModel",
            "_view_count": null,
            "_view_module": "@jupyter-widgets/base",
            "_view_module_version": "1.2.0",
            "_view_name": "StyleView",
            "bar_color": null,
            "description_width": ""
          }
        },
        "ec2da098d3b74e8697458dcd773391c1": {
          "model_module": "@jupyter-widgets/base",
          "model_name": "LayoutModel",
          "model_module_version": "1.2.0",
          "state": {
            "_model_module": "@jupyter-widgets/base",
            "_model_module_version": "1.2.0",
            "_model_name": "LayoutModel",
            "_view_count": null,
            "_view_module": "@jupyter-widgets/base",
            "_view_module_version": "1.2.0",
            "_view_name": "LayoutView",
            "align_content": null,
            "align_items": null,
            "align_self": null,
            "border": null,
            "bottom": null,
            "display": null,
            "flex": null,
            "flex_flow": null,
            "grid_area": null,
            "grid_auto_columns": null,
            "grid_auto_flow": null,
            "grid_auto_rows": null,
            "grid_column": null,
            "grid_gap": null,
            "grid_row": null,
            "grid_template_areas": null,
            "grid_template_columns": null,
            "grid_template_rows": null,
            "height": null,
            "justify_content": null,
            "justify_items": null,
            "left": null,
            "margin": null,
            "max_height": null,
            "max_width": null,
            "min_height": null,
            "min_width": null,
            "object_fit": null,
            "object_position": null,
            "order": null,
            "overflow": null,
            "overflow_x": null,
            "overflow_y": null,
            "padding": null,
            "right": null,
            "top": null,
            "visibility": null,
            "width": null
          }
        },
        "b6b8610f90904808adf87e98d1a94db1": {
          "model_module": "@jupyter-widgets/controls",
          "model_name": "DescriptionStyleModel",
          "model_module_version": "1.5.0",
          "state": {
            "_model_module": "@jupyter-widgets/controls",
            "_model_module_version": "1.5.0",
            "_model_name": "DescriptionStyleModel",
            "_view_count": null,
            "_view_module": "@jupyter-widgets/base",
            "_view_module_version": "1.2.0",
            "_view_name": "StyleView",
            "description_width": ""
          }
        },
        "af927f24da674d928fd1effb40599a34": {
          "model_module": "@jupyter-widgets/controls",
          "model_name": "HBoxModel",
          "model_module_version": "1.5.0",
          "state": {
            "_dom_classes": [],
            "_model_module": "@jupyter-widgets/controls",
            "_model_module_version": "1.5.0",
            "_model_name": "HBoxModel",
            "_view_count": null,
            "_view_module": "@jupyter-widgets/controls",
            "_view_module_version": "1.5.0",
            "_view_name": "HBoxView",
            "box_style": "",
            "children": [
              "IPY_MODEL_ade29bf8255c4eeda61b081260200c40",
              "IPY_MODEL_b606e911d96b4c348b399730d40dee67",
              "IPY_MODEL_4c2ebfde607148299dc2fadbba12416b"
            ],
            "layout": "IPY_MODEL_7134de85add44b67a54fb9cea05981bd"
          }
        },
        "ade29bf8255c4eeda61b081260200c40": {
          "model_module": "@jupyter-widgets/controls",
          "model_name": "HTMLModel",
          "model_module_version": "1.5.0",
          "state": {
            "_dom_classes": [],
            "_model_module": "@jupyter-widgets/controls",
            "_model_module_version": "1.5.0",
            "_model_name": "HTMLModel",
            "_view_count": null,
            "_view_module": "@jupyter-widgets/controls",
            "_view_module_version": "1.5.0",
            "_view_name": "HTMLView",
            "description": "",
            "description_tooltip": null,
            "layout": "IPY_MODEL_0c5431075d624afe889ea1fc002ccd82",
            "placeholder": "​",
            "style": "IPY_MODEL_6a7ac75376f64362acd706cd9d535dff",
            "value": "model.safetensors: 100%"
          }
        },
        "b606e911d96b4c348b399730d40dee67": {
          "model_module": "@jupyter-widgets/controls",
          "model_name": "FloatProgressModel",
          "model_module_version": "1.5.0",
          "state": {
            "_dom_classes": [],
            "_model_module": "@jupyter-widgets/controls",
            "_model_module_version": "1.5.0",
            "_model_name": "FloatProgressModel",
            "_view_count": null,
            "_view_module": "@jupyter-widgets/controls",
            "_view_module_version": "1.5.0",
            "_view_name": "ProgressView",
            "bar_style": "success",
            "description": "",
            "description_tooltip": null,
            "layout": "IPY_MODEL_1165ccf8484a46968b328f98bb5b463c",
            "max": 548105171,
            "min": 0,
            "orientation": "horizontal",
            "style": "IPY_MODEL_f0ea1bb87d7a4deaa2045b5d4e85195e",
            "value": 548105171
          }
        },
        "4c2ebfde607148299dc2fadbba12416b": {
          "model_module": "@jupyter-widgets/controls",
          "model_name": "HTMLModel",
          "model_module_version": "1.5.0",
          "state": {
            "_dom_classes": [],
            "_model_module": "@jupyter-widgets/controls",
            "_model_module_version": "1.5.0",
            "_model_name": "HTMLModel",
            "_view_count": null,
            "_view_module": "@jupyter-widgets/controls",
            "_view_module_version": "1.5.0",
            "_view_name": "HTMLView",
            "description": "",
            "description_tooltip": null,
            "layout": "IPY_MODEL_d353e34e400141ef80ef719ba79abb89",
            "placeholder": "​",
            "style": "IPY_MODEL_ecfed1799b304d7885753fa0398dbb98",
            "value": " 548M/548M [00:03&lt;00:00, 129MB/s]"
          }
        },
        "7134de85add44b67a54fb9cea05981bd": {
          "model_module": "@jupyter-widgets/base",
          "model_name": "LayoutModel",
          "model_module_version": "1.2.0",
          "state": {
            "_model_module": "@jupyter-widgets/base",
            "_model_module_version": "1.2.0",
            "_model_name": "LayoutModel",
            "_view_count": null,
            "_view_module": "@jupyter-widgets/base",
            "_view_module_version": "1.2.0",
            "_view_name": "LayoutView",
            "align_content": null,
            "align_items": null,
            "align_self": null,
            "border": null,
            "bottom": null,
            "display": null,
            "flex": null,
            "flex_flow": null,
            "grid_area": null,
            "grid_auto_columns": null,
            "grid_auto_flow": null,
            "grid_auto_rows": null,
            "grid_column": null,
            "grid_gap": null,
            "grid_row": null,
            "grid_template_areas": null,
            "grid_template_columns": null,
            "grid_template_rows": null,
            "height": null,
            "justify_content": null,
            "justify_items": null,
            "left": null,
            "margin": null,
            "max_height": null,
            "max_width": null,
            "min_height": null,
            "min_width": null,
            "object_fit": null,
            "object_position": null,
            "order": null,
            "overflow": null,
            "overflow_x": null,
            "overflow_y": null,
            "padding": null,
            "right": null,
            "top": null,
            "visibility": null,
            "width": null
          }
        },
        "0c5431075d624afe889ea1fc002ccd82": {
          "model_module": "@jupyter-widgets/base",
          "model_name": "LayoutModel",
          "model_module_version": "1.2.0",
          "state": {
            "_model_module": "@jupyter-widgets/base",
            "_model_module_version": "1.2.0",
            "_model_name": "LayoutModel",
            "_view_count": null,
            "_view_module": "@jupyter-widgets/base",
            "_view_module_version": "1.2.0",
            "_view_name": "LayoutView",
            "align_content": null,
            "align_items": null,
            "align_self": null,
            "border": null,
            "bottom": null,
            "display": null,
            "flex": null,
            "flex_flow": null,
            "grid_area": null,
            "grid_auto_columns": null,
            "grid_auto_flow": null,
            "grid_auto_rows": null,
            "grid_column": null,
            "grid_gap": null,
            "grid_row": null,
            "grid_template_areas": null,
            "grid_template_columns": null,
            "grid_template_rows": null,
            "height": null,
            "justify_content": null,
            "justify_items": null,
            "left": null,
            "margin": null,
            "max_height": null,
            "max_width": null,
            "min_height": null,
            "min_width": null,
            "object_fit": null,
            "object_position": null,
            "order": null,
            "overflow": null,
            "overflow_x": null,
            "overflow_y": null,
            "padding": null,
            "right": null,
            "top": null,
            "visibility": null,
            "width": null
          }
        },
        "6a7ac75376f64362acd706cd9d535dff": {
          "model_module": "@jupyter-widgets/controls",
          "model_name": "DescriptionStyleModel",
          "model_module_version": "1.5.0",
          "state": {
            "_model_module": "@jupyter-widgets/controls",
            "_model_module_version": "1.5.0",
            "_model_name": "DescriptionStyleModel",
            "_view_count": null,
            "_view_module": "@jupyter-widgets/base",
            "_view_module_version": "1.2.0",
            "_view_name": "StyleView",
            "description_width": ""
          }
        },
        "1165ccf8484a46968b328f98bb5b463c": {
          "model_module": "@jupyter-widgets/base",
          "model_name": "LayoutModel",
          "model_module_version": "1.2.0",
          "state": {
            "_model_module": "@jupyter-widgets/base",
            "_model_module_version": "1.2.0",
            "_model_name": "LayoutModel",
            "_view_count": null,
            "_view_module": "@jupyter-widgets/base",
            "_view_module_version": "1.2.0",
            "_view_name": "LayoutView",
            "align_content": null,
            "align_items": null,
            "align_self": null,
            "border": null,
            "bottom": null,
            "display": null,
            "flex": null,
            "flex_flow": null,
            "grid_area": null,
            "grid_auto_columns": null,
            "grid_auto_flow": null,
            "grid_auto_rows": null,
            "grid_column": null,
            "grid_gap": null,
            "grid_row": null,
            "grid_template_areas": null,
            "grid_template_columns": null,
            "grid_template_rows": null,
            "height": null,
            "justify_content": null,
            "justify_items": null,
            "left": null,
            "margin": null,
            "max_height": null,
            "max_width": null,
            "min_height": null,
            "min_width": null,
            "object_fit": null,
            "object_position": null,
            "order": null,
            "overflow": null,
            "overflow_x": null,
            "overflow_y": null,
            "padding": null,
            "right": null,
            "top": null,
            "visibility": null,
            "width": null
          }
        },
        "f0ea1bb87d7a4deaa2045b5d4e85195e": {
          "model_module": "@jupyter-widgets/controls",
          "model_name": "ProgressStyleModel",
          "model_module_version": "1.5.0",
          "state": {
            "_model_module": "@jupyter-widgets/controls",
            "_model_module_version": "1.5.0",
            "_model_name": "ProgressStyleModel",
            "_view_count": null,
            "_view_module": "@jupyter-widgets/base",
            "_view_module_version": "1.2.0",
            "_view_name": "StyleView",
            "bar_color": null,
            "description_width": ""
          }
        },
        "d353e34e400141ef80ef719ba79abb89": {
          "model_module": "@jupyter-widgets/base",
          "model_name": "LayoutModel",
          "model_module_version": "1.2.0",
          "state": {
            "_model_module": "@jupyter-widgets/base",
            "_model_module_version": "1.2.0",
            "_model_name": "LayoutModel",
            "_view_count": null,
            "_view_module": "@jupyter-widgets/base",
            "_view_module_version": "1.2.0",
            "_view_name": "LayoutView",
            "align_content": null,
            "align_items": null,
            "align_self": null,
            "border": null,
            "bottom": null,
            "display": null,
            "flex": null,
            "flex_flow": null,
            "grid_area": null,
            "grid_auto_columns": null,
            "grid_auto_flow": null,
            "grid_auto_rows": null,
            "grid_column": null,
            "grid_gap": null,
            "grid_row": null,
            "grid_template_areas": null,
            "grid_template_columns": null,
            "grid_template_rows": null,
            "height": null,
            "justify_content": null,
            "justify_items": null,
            "left": null,
            "margin": null,
            "max_height": null,
            "max_width": null,
            "min_height": null,
            "min_width": null,
            "object_fit": null,
            "object_position": null,
            "order": null,
            "overflow": null,
            "overflow_x": null,
            "overflow_y": null,
            "padding": null,
            "right": null,
            "top": null,
            "visibility": null,
            "width": null
          }
        },
        "ecfed1799b304d7885753fa0398dbb98": {
          "model_module": "@jupyter-widgets/controls",
          "model_name": "DescriptionStyleModel",
          "model_module_version": "1.5.0",
          "state": {
            "_model_module": "@jupyter-widgets/controls",
            "_model_module_version": "1.5.0",
            "_model_name": "DescriptionStyleModel",
            "_view_count": null,
            "_view_module": "@jupyter-widgets/base",
            "_view_module_version": "1.2.0",
            "_view_name": "StyleView",
            "description_width": ""
          }
        },
        "9acc9872c0c14f91871187cd1d4936b9": {
          "model_module": "@jupyter-widgets/controls",
          "model_name": "HBoxModel",
          "model_module_version": "1.5.0",
          "state": {
            "_dom_classes": [],
            "_model_module": "@jupyter-widgets/controls",
            "_model_module_version": "1.5.0",
            "_model_name": "HBoxModel",
            "_view_count": null,
            "_view_module": "@jupyter-widgets/controls",
            "_view_module_version": "1.5.0",
            "_view_name": "HBoxView",
            "box_style": "",
            "children": [
              "IPY_MODEL_817f9260474c45c9a862b5f4d7642441",
              "IPY_MODEL_3900ca32ae6746d1aa3e8d43b60dbdc1",
              "IPY_MODEL_d5fb7d393689468a946e9e97e37968d6"
            ],
            "layout": "IPY_MODEL_3e44fac3e65745b99100b879ecabc7be"
          }
        },
        "817f9260474c45c9a862b5f4d7642441": {
          "model_module": "@jupyter-widgets/controls",
          "model_name": "HTMLModel",
          "model_module_version": "1.5.0",
          "state": {
            "_dom_classes": [],
            "_model_module": "@jupyter-widgets/controls",
            "_model_module_version": "1.5.0",
            "_model_name": "HTMLModel",
            "_view_count": null,
            "_view_module": "@jupyter-widgets/controls",
            "_view_module_version": "1.5.0",
            "_view_name": "HTMLView",
            "description": "",
            "description_tooltip": null,
            "layout": "IPY_MODEL_62e62f6883a84f23b83a95779e3f94b0",
            "placeholder": "​",
            "style": "IPY_MODEL_bd5ffa7b16a5430ca299281aed739332",
            "value": "generation_config.json: 100%"
          }
        },
        "3900ca32ae6746d1aa3e8d43b60dbdc1": {
          "model_module": "@jupyter-widgets/controls",
          "model_name": "FloatProgressModel",
          "model_module_version": "1.5.0",
          "state": {
            "_dom_classes": [],
            "_model_module": "@jupyter-widgets/controls",
            "_model_module_version": "1.5.0",
            "_model_name": "FloatProgressModel",
            "_view_count": null,
            "_view_module": "@jupyter-widgets/controls",
            "_view_module_version": "1.5.0",
            "_view_name": "ProgressView",
            "bar_style": "success",
            "description": "",
            "description_tooltip": null,
            "layout": "IPY_MODEL_ca3309b4438345cab2cb19290b47c5ed",
            "max": 124,
            "min": 0,
            "orientation": "horizontal",
            "style": "IPY_MODEL_9fd46d2075da42fc8b3086294a068bc3",
            "value": 124
          }
        },
        "d5fb7d393689468a946e9e97e37968d6": {
          "model_module": "@jupyter-widgets/controls",
          "model_name": "HTMLModel",
          "model_module_version": "1.5.0",
          "state": {
            "_dom_classes": [],
            "_model_module": "@jupyter-widgets/controls",
            "_model_module_version": "1.5.0",
            "_model_name": "HTMLModel",
            "_view_count": null,
            "_view_module": "@jupyter-widgets/controls",
            "_view_module_version": "1.5.0",
            "_view_name": "HTMLView",
            "description": "",
            "description_tooltip": null,
            "layout": "IPY_MODEL_4a50e1f990c449de8a8774d7d3482026",
            "placeholder": "​",
            "style": "IPY_MODEL_bce8e7ebd07d456998ab5012f770f664",
            "value": " 124/124 [00:00&lt;00:00, 4.87kB/s]"
          }
        },
        "3e44fac3e65745b99100b879ecabc7be": {
          "model_module": "@jupyter-widgets/base",
          "model_name": "LayoutModel",
          "model_module_version": "1.2.0",
          "state": {
            "_model_module": "@jupyter-widgets/base",
            "_model_module_version": "1.2.0",
            "_model_name": "LayoutModel",
            "_view_count": null,
            "_view_module": "@jupyter-widgets/base",
            "_view_module_version": "1.2.0",
            "_view_name": "LayoutView",
            "align_content": null,
            "align_items": null,
            "align_self": null,
            "border": null,
            "bottom": null,
            "display": null,
            "flex": null,
            "flex_flow": null,
            "grid_area": null,
            "grid_auto_columns": null,
            "grid_auto_flow": null,
            "grid_auto_rows": null,
            "grid_column": null,
            "grid_gap": null,
            "grid_row": null,
            "grid_template_areas": null,
            "grid_template_columns": null,
            "grid_template_rows": null,
            "height": null,
            "justify_content": null,
            "justify_items": null,
            "left": null,
            "margin": null,
            "max_height": null,
            "max_width": null,
            "min_height": null,
            "min_width": null,
            "object_fit": null,
            "object_position": null,
            "order": null,
            "overflow": null,
            "overflow_x": null,
            "overflow_y": null,
            "padding": null,
            "right": null,
            "top": null,
            "visibility": null,
            "width": null
          }
        },
        "62e62f6883a84f23b83a95779e3f94b0": {
          "model_module": "@jupyter-widgets/base",
          "model_name": "LayoutModel",
          "model_module_version": "1.2.0",
          "state": {
            "_model_module": "@jupyter-widgets/base",
            "_model_module_version": "1.2.0",
            "_model_name": "LayoutModel",
            "_view_count": null,
            "_view_module": "@jupyter-widgets/base",
            "_view_module_version": "1.2.0",
            "_view_name": "LayoutView",
            "align_content": null,
            "align_items": null,
            "align_self": null,
            "border": null,
            "bottom": null,
            "display": null,
            "flex": null,
            "flex_flow": null,
            "grid_area": null,
            "grid_auto_columns": null,
            "grid_auto_flow": null,
            "grid_auto_rows": null,
            "grid_column": null,
            "grid_gap": null,
            "grid_row": null,
            "grid_template_areas": null,
            "grid_template_columns": null,
            "grid_template_rows": null,
            "height": null,
            "justify_content": null,
            "justify_items": null,
            "left": null,
            "margin": null,
            "max_height": null,
            "max_width": null,
            "min_height": null,
            "min_width": null,
            "object_fit": null,
            "object_position": null,
            "order": null,
            "overflow": null,
            "overflow_x": null,
            "overflow_y": null,
            "padding": null,
            "right": null,
            "top": null,
            "visibility": null,
            "width": null
          }
        },
        "bd5ffa7b16a5430ca299281aed739332": {
          "model_module": "@jupyter-widgets/controls",
          "model_name": "DescriptionStyleModel",
          "model_module_version": "1.5.0",
          "state": {
            "_model_module": "@jupyter-widgets/controls",
            "_model_module_version": "1.5.0",
            "_model_name": "DescriptionStyleModel",
            "_view_count": null,
            "_view_module": "@jupyter-widgets/base",
            "_view_module_version": "1.2.0",
            "_view_name": "StyleView",
            "description_width": ""
          }
        },
        "ca3309b4438345cab2cb19290b47c5ed": {
          "model_module": "@jupyter-widgets/base",
          "model_name": "LayoutModel",
          "model_module_version": "1.2.0",
          "state": {
            "_model_module": "@jupyter-widgets/base",
            "_model_module_version": "1.2.0",
            "_model_name": "LayoutModel",
            "_view_count": null,
            "_view_module": "@jupyter-widgets/base",
            "_view_module_version": "1.2.0",
            "_view_name": "LayoutView",
            "align_content": null,
            "align_items": null,
            "align_self": null,
            "border": null,
            "bottom": null,
            "display": null,
            "flex": null,
            "flex_flow": null,
            "grid_area": null,
            "grid_auto_columns": null,
            "grid_auto_flow": null,
            "grid_auto_rows": null,
            "grid_column": null,
            "grid_gap": null,
            "grid_row": null,
            "grid_template_areas": null,
            "grid_template_columns": null,
            "grid_template_rows": null,
            "height": null,
            "justify_content": null,
            "justify_items": null,
            "left": null,
            "margin": null,
            "max_height": null,
            "max_width": null,
            "min_height": null,
            "min_width": null,
            "object_fit": null,
            "object_position": null,
            "order": null,
            "overflow": null,
            "overflow_x": null,
            "overflow_y": null,
            "padding": null,
            "right": null,
            "top": null,
            "visibility": null,
            "width": null
          }
        },
        "9fd46d2075da42fc8b3086294a068bc3": {
          "model_module": "@jupyter-widgets/controls",
          "model_name": "ProgressStyleModel",
          "model_module_version": "1.5.0",
          "state": {
            "_model_module": "@jupyter-widgets/controls",
            "_model_module_version": "1.5.0",
            "_model_name": "ProgressStyleModel",
            "_view_count": null,
            "_view_module": "@jupyter-widgets/base",
            "_view_module_version": "1.2.0",
            "_view_name": "StyleView",
            "bar_color": null,
            "description_width": ""
          }
        },
        "4a50e1f990c449de8a8774d7d3482026": {
          "model_module": "@jupyter-widgets/base",
          "model_name": "LayoutModel",
          "model_module_version": "1.2.0",
          "state": {
            "_model_module": "@jupyter-widgets/base",
            "_model_module_version": "1.2.0",
            "_model_name": "LayoutModel",
            "_view_count": null,
            "_view_module": "@jupyter-widgets/base",
            "_view_module_version": "1.2.0",
            "_view_name": "LayoutView",
            "align_content": null,
            "align_items": null,
            "align_self": null,
            "border": null,
            "bottom": null,
            "display": null,
            "flex": null,
            "flex_flow": null,
            "grid_area": null,
            "grid_auto_columns": null,
            "grid_auto_flow": null,
            "grid_auto_rows": null,
            "grid_column": null,
            "grid_gap": null,
            "grid_row": null,
            "grid_template_areas": null,
            "grid_template_columns": null,
            "grid_template_rows": null,
            "height": null,
            "justify_content": null,
            "justify_items": null,
            "left": null,
            "margin": null,
            "max_height": null,
            "max_width": null,
            "min_height": null,
            "min_width": null,
            "object_fit": null,
            "object_position": null,
            "order": null,
            "overflow": null,
            "overflow_x": null,
            "overflow_y": null,
            "padding": null,
            "right": null,
            "top": null,
            "visibility": null,
            "width": null
          }
        },
        "bce8e7ebd07d456998ab5012f770f664": {
          "model_module": "@jupyter-widgets/controls",
          "model_name": "DescriptionStyleModel",
          "model_module_version": "1.5.0",
          "state": {
            "_model_module": "@jupyter-widgets/controls",
            "_model_module_version": "1.5.0",
            "_model_name": "DescriptionStyleModel",
            "_view_count": null,
            "_view_module": "@jupyter-widgets/base",
            "_view_module_version": "1.2.0",
            "_view_name": "StyleView",
            "description_width": ""
          }
        }
      }
    }
  },
  "cells": [
    {
      "cell_type": "markdown",
      "source": [
        "# CSE 447/517: Python and Math tutorial\n",
        "\n",
        "Author: Jaehun Jung, Alisa Liu\n",
        "\n",
        "In this tutorial, we will go through some of the basic concepts behind Language Models and how to implement them in Python (Numpy and Torch). The topics covered include:\n",
        "* **Categorical distribution** and how to sample from them\n",
        "* Basic **Information theory**: Entropy, Cross Entropy, and KL Divergence\n",
        "* **Language Model** as an empirical distribution of human text\n",
        "* Basic **Decoding methods**: what it means to generate a sequence, and how to generate a text sequence from a Language Model\n",
        "\n",
        "## Before we start\n",
        "Make sure to copy this jupyter notebook into your drive!"
      ],
      "metadata": {
        "id": "7MRy4hJHtdwc"
      }
    },
    {
      "cell_type": "markdown",
      "source": [
        "## Part 1: Categorical Distribution\n",
        "\n",
        "### What is a categorical distribution?\n",
        "\n",
        "**Categorical distribution** is a discrete probability distribution, that describes the possible results of a random variable that can take on one of K possible categories.\n",
        "\n",
        "An intuitive example: Outcomes of rolling a dice\n",
        "\n",
        "![](https://drive.google.com/uc?export=view&id=1pJ32TgBEirKS7WLnCMkluW-uBF2eAekC)\n",
        "\n",
        "\n"
      ],
      "metadata": {
        "id": "sHQ1jkELwnqS"
      }
    },
    {
      "cell_type": "markdown",
      "source": [
        "### Example: Favorite ice cream flavor\n",
        "\n",
        "We want to sell ice creams to UW students. To get a better sense of what flavors are popular, we conducted a survey on 20 students' favorite ice-cream flavor. There are 4 options: Chocolate, Strawberry, Mango and Vanilla."
      ],
      "metadata": {
        "id": "gVWXkSXe1g1r"
      }
    },
    {
      "cell_type": "code",
      "source": [
        "survey_result = ['chocolate', 'chocolate', 'vanilla', 'strawberry',\n",
        "                 'strawberry', 'vanilla', 'chocolate', 'vanilla',\n",
        "                 'mango', 'vanilla', 'vanilla', 'chocolate',\n",
        "                 'strawberry', 'chocolate', 'mango', 'vanilla',\n",
        "                 'strawberry', 'strawberry', 'vanilla', 'mango']"
      ],
      "metadata": {
        "id": "Ez1eOyctxi5O"
      },
      "execution_count": null,
      "outputs": []
    },
    {
      "cell_type": "markdown",
      "source": [
        "We can represent this into a categorical distribution, by computing the probability of each flavor in the survey result."
      ],
      "metadata": {
        "id": "yqd0ctVV2Omj"
      }
    },
    {
      "cell_type": "code",
      "source": [
        "flavor_distribution = {\n",
        "    flavor: survey_result.count(flavor) / len(survey_result) # the number of occurrences of each flavor divided by the number of all samples\n",
        "    for flavor in survey_result\n",
        "}\n",
        "\n",
        "flavor_distribution"
      ],
      "metadata": {
        "colab": {
          "base_uri": "https://localhost:8080/"
        },
        "id": "EQ0cFij62hLd",
        "outputId": "89c70345-aa61-4ecd-951f-35f2f8c0c21b"
      },
      "execution_count": null,
      "outputs": [
        {
          "output_type": "execute_result",
          "data": {
            "text/plain": [
              "{'chocolate': 0.25, 'vanilla': 0.35, 'strawberry': 0.25, 'mango': 0.15}"
            ]
          },
          "metadata": {},
          "execution_count": 2
        }
      ]
    },
    {
      "cell_type": "markdown",
      "source": [
        "We can draw a plot of this distribution using matplotlib, a popular python library for plotting graphs."
      ],
      "metadata": {
        "id": "Xea5Jeko3ms1"
      }
    },
    {
      "cell_type": "code",
      "source": [
        "import matplotlib.pyplot as plt\n",
        "\n",
        "\n",
        "def draw_histogram(distribution: dict, title: str):\n",
        "  categories = list(distribution.keys())\n",
        "  values = list(distribution.values())\n",
        "\n",
        "  plt.bar(categories, values)\n",
        "  plt.title(title)\n",
        "\n",
        "draw_histogram(flavor_distribution, \"Favorite flavors\")"
      ],
      "metadata": {
        "colab": {
          "base_uri": "https://localhost:8080/",
          "height": 452
        },
        "id": "rXZys7UV25Gy",
        "outputId": "74ccff27-b6fc-47a1-a831-e6fc31dffdb1"
      },
      "execution_count": null,
      "outputs": [
        {
          "output_type": "display_data",
          "data": {
            "text/plain": [
              "<Figure size 640x480 with 1 Axes>"
            ],
            "image/png": "[encoded data removed]"
          },
          "metadata": {}
        }
      ]
    },
    {
      "cell_type": "markdown",
      "source": [
        "### Sampling from Categorical Distribution\n",
        "\n",
        "We understand what categorical distribution is, but how do we **sample** from it? With native python, you can use `random.choices` function:"
      ],
      "metadata": {
        "id": "EgUu7tKz43fO"
      }
    },
    {
      "cell_type": "code",
      "source": [
        "import random\n",
        "\n",
        "flavor_categories = list(flavor_distribution.keys())\n",
        "flavor_probabilities = list(flavor_distribution.values())\n",
        "\n",
        "print(random.choices(flavor_categories, weights=flavor_probabilities)[0])"
      ],
      "metadata": {
        "colab": {
          "base_uri": "https://localhost:8080/"
        },
        "id": "cPVvdydA4TtV",
        "outputId": "cda8302a-d447-47b1-9be4-f9cae6a747c5"
      },
      "execution_count": null,
      "outputs": [
        {
          "output_type": "stream",
          "name": "stdout",
          "text": [
            "vanilla\n"
          ]
        }
      ]
    },
    {
      "cell_type": "markdown",
      "source": [
        "You can also sample multiple samples at once, by specifying `k` parameter:"
      ],
      "metadata": {
        "id": "JGqBWQzz7QPp"
      }
    },
    {
      "cell_type": "code",
      "source": [
        "print(random.choices(flavor_categories, weights=flavor_probabilities, k=3))"
      ],
      "metadata": {
        "colab": {
          "base_uri": "https://localhost:8080/"
        },
        "id": "88LQMLwx7Mkp",
        "outputId": "8d700261-8fd0-4898-ae40-701c562f9fe2"
      },
      "execution_count": null,
      "outputs": [
        {
          "output_type": "stream",
          "name": "stdout",
          "text": [
            "['vanilla', 'vanilla', 'vanilla']\n"
          ]
        }
      ]
    },
    {
      "cell_type": "markdown",
      "source": [
        "### Faster sampling with Torch\n",
        "\n",
        "The ice-cream distribution only had 4 categories. What if we have > 10000 categories (e.g. all english words)? In this case, sampling with `random.choices` may take too long...\n",
        "\n",
        "Instead, you can use `torch.multinomial`, which provides a faster implementation of categorical distribution."
      ],
      "metadata": {
        "id": "KbyLsqWy723s"
      }
    },
    {
      "cell_type": "code",
      "source": [
        "import time\n",
        "\n",
        "large_categories = range(int(1e6))  # each category is represented as an integer in [0, 999999]\n",
        "large_probabilities = [1/1e6] * int(1e6)  # all 1000000 categories get equal probability of 0.000001\n",
        "\n",
        "start_time = time.time()\n",
        "print(random.choices(large_categories, weights=large_probabilities, k=100))\n",
        "print(f\"--- random.choices : {time.time() - start_time} seconds ---\")"
      ],
      "metadata": {
        "colab": {
          "base_uri": "https://localhost:8080/"
        },
        "id": "3hyYOg6q7XlH",
        "outputId": "fe6fe0f5-ebe6-4359-de18-1be2825d2768"
      },
      "execution_count": null,
      "outputs": [
        {
          "output_type": "stream",
          "name": "stdout",
          "text": [
            "[731841, 871727, 894177, 528107, 232734, 28590, 654532, 169776, 245674, 436269, 323195, 546442, 705515, 787654, 944307, 373448, 112482, 878434, 547639, 418052, 148286, 595612, 375769, 842913, 206572, 540335, 247660, 591954, 104700, 552319, 31193, 772652, 147407, 514045, 593624, 43167, 732344, 695036, 87410, 806252, 597651, 71093, 240100, 663672, 412954, 290287, 666467, 788643, 60683, 900730, 460367, 686534, 271405, 830709, 48184, 32475, 766690, 555359, 993968, 190079, 48620, 83207, 746714, 406342, 958269, 346626, 300512, 67581, 463669, 140658, 165281, 550396, 879074, 368645, 405301, 47036, 133625, 278763, 601565, 308566, 781754, 662142, 101746, 26553, 745808, 191212, 248053, 341161, 633904, 962626, 171364, 675452, 871724, 455072, 180043, 325473, 656815, 116378, 569500, 821110]\n",
            "--- random.choices : 0.07328605651855469 seconds ---\n"
          ]
        }
      ]
    },
    {
      "cell_type": "code",
      "source": [
        "import torch\n",
        "\n",
        "large_categories = torch.Tensor(large_categories)\n",
        "large_probabilities = torch.Tensor(large_probabilities)\n",
        "\n",
        "start_time = time.time()\n",
        "print(torch.multinomial(large_probabilities, 100, replacement=True))\n",
        "print(f\"--- torch.multinomial : {time.time() - start_time} seconds ---\")"
      ],
      "metadata": {
        "colab": {
          "base_uri": "https://localhost:8080/"
        },
        "id": "puwhDOvL89mR",
        "outputId": "51eaaa5c-6acb-45fc-915a-35c7cbdb8b0b"
      },
      "execution_count": null,
      "outputs": [
        {
          "output_type": "stream",
          "name": "stdout",
          "text": [
            "tensor([893910,  78801, 594383, 187972, 259090, 827150, 461995, 972574, 778613,\n",
            "        127797, 636521, 364099,  44435, 513385, 156107, 495876, 715738, 655973,\n",
            "        141320, 951492, 859079, 378404, 975948, 333753, 402213, 888424, 515711,\n",
            "        268223, 711913, 793680, 624248, 378355, 102487, 994506, 586234, 288673,\n",
            "        770041, 594849, 610178, 869851, 367828, 461218, 374363, 750657, 870458,\n",
            "        673872, 876327, 574622, 441269,  58045, 171744, 903588, 113611, 482192,\n",
            "        987842, 419635, 845019, 879133, 619041, 626294, 163281,  88136, 768835,\n",
            "        227484, 790969, 162160, 784467, 591582, 844923, 372342, 587080, 900171,\n",
            "        426259, 298224, 399967, 338063, 831735, 509310, 643833, 650199, 329524,\n",
            "         12882, 953240,  64105, 253098, 360827, 564024, 478695, 259274, 838162,\n",
            "        726128, 718018, 614122, 315563, 125682, 112223,  53761, 399682, 578754,\n",
            "        493227])\n",
            "--- torch.multinomial : 0.0038726329803466797 seconds ---\n"
          ]
        }
      ]
    },
    {
      "cell_type": "markdown",
      "source": [
        "### Note: Empirical Distribution vs. True distribution\n",
        "\n",
        "In fact, our flavor distribution is an approximation of what we want to know -- the true distribution of UW students' favorite ice cream flavor. In a fancy term, we refer to this approximation as **empirical distribution**."
      ],
      "metadata": {
        "id": "hx3IxmwMDAWb"
      }
    },
    {
      "cell_type": "markdown",
      "source": [
        "## Part 2: Information Theory Basics\n",
        "\n",
        "### Entropy\n",
        "Intuitively, the entropy $H_X$ of a random variable $X$ measures the **amount of uncertainty associated with the value of $X$**, when only its distribution is known.\n",
        "\n",
        "\\begin{align*}\n",
        "H_{X} = -\\sum_{x \\in 𝕏} p(x) \\log p(x)\n",
        "\\end{align*}\n",
        "\n",
        "You will find that $H_{X}$ is the highest when all possible outcomes are equiprobable. Consider an outcome of coin toss -- you will be most uncertain about the result, when you have $P(\\text{head}) = 0.5$ and $P(\\text{tail}) = 0.5$, compared to having a biased coin with $P(\\text{head})=0.9$.\n",
        "\n",
        "\n",
        "### Measuring entropy in Python\n",
        "Entropy can be easily computed when the distribution is known, using broadcast operations of Numpy arrays."
      ],
      "metadata": {
        "id": "78WHU4I0jHMv"
      }
    },
    {
      "cell_type": "code",
      "source": [
        "import torch\n",
        "\n",
        "\n",
        "def compute_entropy(distribution: dict):\n",
        "  probability_list = torch.Tensor(list(distribution.values()))\n",
        "\n",
        "  return -(probability_list * torch.log(probability_list)).sum().item()  # compute entropy for each outcome, than sum over all outcomes\n",
        "\n",
        "print(f\"Entropy of equiprobable coin toss: {compute_entropy({'head': 0.5, 'tail': 0.5})}\")\n",
        "print(f\"Entropy of biased coin toss: {compute_entropy({'head': 0.9, 'tail': 0.1})}\")\n",
        "\n",
        "flavor_distribution = {'chocolate': 0.25, 'vanilla': 0.35, 'strawberry': 0.25, 'mango': 0.15}\n",
        "skewed_flavor_distribution = {'chocolate': 0.8, 'vanilla': 0.01, 'strawberry': 0.15, 'mango': 0.04}\n",
        "\n",
        "print(f\"Entropy of original flavor distribution: {compute_entropy(flavor_distribution)}\")\n",
        "print(f\"Entropy of skewed flavor distribution: {compute_entropy(skewed_flavor_distribution)}\")\n"
      ],
      "metadata": {
        "colab": {
          "base_uri": "https://localhost:8080/"
        },
        "id": "L6TMHw6wt_XT",
        "outputId": "0c70b656-eb0c-44c3-92ee-06168a5dd8f5"
      },
      "execution_count": null,
      "outputs": [
        {
          "output_type": "stream",
          "name": "stdout",
          "text": [
            "Entropy of equiprobable coin toss: 0.6931471824645996\n",
            "Entropy of biased coin toss: 0.3250829875469208\n",
            "Entropy of original flavor distribution: 1.3451528549194336\n",
            "Entropy of skewed flavor distribution: 0.637889564037323\n"
          ]
        }
      ]
    },
    {
      "cell_type": "markdown",
      "source": [
        "### KL Divergence\n",
        "\n",
        "The KL Divergence $D_{KL}(P || Q)$ of two distributions $P$ and $Q$ measures **how different $P$ is from $Q$**.\n",
        "\n",
        "\\begin{align*}\n",
        "D_{KL}(P || Q) = - \\sum_{x \\in 𝕏} P(x)\\log\\left(\\frac{Q(x)}{P(x)}\\right)\n",
        "\\end{align*}\n",
        "\n",
        "NOTE: KL Divergence is an asymmetric metric, therefore\n",
        "\\begin{align*}\n",
        "D_{KL}(P || Q) \\neq D_{KL}(Q || P)\n",
        "\\end{align*}\n",
        "\n",
        "<br>\n",
        "\n",
        "KL Divergence can be best understood through an example. Consider the following three distributions."
      ],
      "metadata": {
        "id": "hD4RX2VLFB0n"
      }
    },
    {
      "cell_type": "code",
      "source": [
        "import matplotlib.pyplot as plt\n",
        "from typing import List\n",
        "\n",
        "\n",
        "P = {'chocolate': 0.25, 'vanilla': 0.35, 'strawberry': 0.25, 'mango': 0.15}\n",
        "Q1 = {'chocolate': 0.35, 'vanilla': 0.24, 'strawberry': 0.30, 'mango': 0.11}\n",
        "Q2 = {'chocolate': 0.21, 'vanilla': 0.74, 'strawberry': 0.04, 'mango': 0.01}\n",
        "\n",
        "\n",
        "def draw_histograms(distributions: List[dict], titles: List[str]):\n",
        "  fig, axs = plt.subplots(1, 3, figsize=(18, 6))\n",
        "\n",
        "  for i, distribution in enumerate(distributions):\n",
        "    categories = list(distribution.keys())\n",
        "    values = list(distribution.values())\n",
        "\n",
        "    axs[i].bar(categories, values)\n",
        "    axs[i].set_title(titles[i])\n",
        "\n",
        "\n",
        "draw_histograms([P, Q1, Q2], [\"P\", \"Q1\", \"Q2\"])"
      ],
      "metadata": {
        "colab": {
          "base_uri": "https://localhost:8080/",
          "height": 364
        },
        "id": "eyM_OpNqxazM",
        "outputId": "dda1d0ef-de6a-476b-82b7-9504062e7243"
      },
      "execution_count": null,
      "outputs": [
        {
          "output_type": "display_data",
          "data": {
            "text/plain": [
              "<Figure size 1800x600 with 3 Axes>"
            ],
            "image/png": "[encoded data removed]"
          },
          "metadata": {}
        }
      ]
    },
    {
      "cell_type": "code",
      "source": [
        "import torch\n",
        "\n",
        "\n",
        "def compute_kl_divergence(distribution1: dict, distribution2: dict):\n",
        "  assert set(distribution1.keys()) == set(distribution2.keys()), \"Two distributions must have same support.\"\n",
        "\n",
        "  support = distribution1.keys()\n",
        "  probability_list1 = torch.Tensor([distribution1[x] for x in support])\n",
        "  probability_list2 = torch.Tensor([distribution2[x] for x in support])\n",
        "\n",
        "  return -(probability_list1 * torch.log(probability_list2 / probability_list1)).sum()  # compute outcome-wise KL divergence, than sum over them\n",
        "\n",
        "\n",
        "print(f\"D(P|Q1) = {compute_kl_divergence(P, Q1)}\")\n",
        "print(f\"D(P|Q2) = {compute_kl_divergence(P, Q2)}\")"
      ],
      "metadata": {
        "colab": {
          "base_uri": "https://localhost:8080/"
        },
        "id": "V5RkwjVlzfv6",
        "outputId": "f000bd66-0292-49e6-ea08-abd5a3b18ca1"
      },
      "execution_count": null,
      "outputs": [
        {
          "output_type": "stream",
          "name": "stdout",
          "text": [
            "D(P|Q1) = 0.0488777682185173\n",
            "D(P|Q2) = 0.6458903551101685\n"
          ]
        }
      ]
    },
    {
      "cell_type": "markdown",
      "source": [
        "### Relationship between KL Divergence and Cross Entropy\n",
        "\n",
        "The cross entropy $H(P, Q)$ between distributions P and Q is defined as\n",
        "\n",
        "<br>\n",
        "\n",
        "\\begin{align*}\n",
        "  H(P, Q) = - \\sum_{x \\in 𝕏} P(x) \\log Q(x)\n",
        "\\end{align*}\n",
        "\n",
        "Therefore, by definition,\n",
        "\n",
        "\\begin{align*}\n",
        "  H(P, Q) = H(P) + D_{KL}(P||Q)\n",
        "\\end{align*}\n",
        "\n",
        "<br>\n",
        "\n",
        "### What does this mean for language modeling?\n",
        "Let's consider $P$ as the human text distribution (which we collect language model train set from), and $Q$ as the language model we are training. As we shall see in the later lectures, we typically train a language model with **cross entropy loss**, i.e., to minimize $H(P,Q)$.\n",
        "\n",
        "Since H(P) is the inherent entropy of human text distribution (hence irreducible), **minimizing $H(P,Q)$ amounts to minimizing $D_{KL}(P||Q)$, i.e., the distance between $P$ and our learned distribution $Q$.**"
      ],
      "metadata": {
        "id": "EpuVENWejXfp"
      }
    },
    {
      "cell_type": "markdown",
      "source": [
        "### Question: Modify `compute_kl_divergence` to compute the cross entropy between two distributions.\n",
        "\n",
        "Take a stab at it yourself before revealing the answer below!"
      ],
      "metadata": {
        "id": "6eXogPjc3Et4"
      }
    },
    {
      "cell_type": "markdown",
      "source": [
        "### Answer"
      ],
      "metadata": {
        "id": "_FQ3Pg6l3OQR"
      }
    },
    {
      "cell_type": "code",
      "source": [
        "def compute_cross_entropy(distribution1: dict, distribution2: dict):\n",
        "  assert set(distribution1.keys()) == set(distribution2.keys()), \"Two distributions must have same support.\"\n",
        "\n",
        "  support = distribution1.keys()\n",
        "  probability_list1 = torch.Tensor([distribution1[x] for x in support])\n",
        "  probability_list2 = torch.Tensor([distribution2[x] for x in support])\n",
        "\n",
        "  return -(probability_list1 * torch.log(probability_list2)).sum()"
      ],
      "metadata": {
        "id": "wWAUM6r23NA2"
      },
      "execution_count": null,
      "outputs": []
    },
    {
      "cell_type": "markdown",
      "source": [
        "## Part 3: Language Model Basics"
      ],
      "metadata": {
        "id": "TWLcy2X7CtUJ"
      }
    },
    {
      "cell_type": "markdown",
      "source": [
        "### Language Models model the empirical distribution of text\n",
        "In principle, generative language models such as GPT-2, GPT-3, ... are trained to model the empirical distribution of human text.\n",
        "\n",
        "* If so, can we measure the likelihood of an arbitrary sequence of text?\n",
        "\n",
        "Yes! Below, we will try ourselves to compute the likelihood of a text sequence using a modern LM, GPT-2.\n",
        "\n",
        "<br>\n",
        "\n",
        "### What is GPT-2?\n",
        "As the name suggests, GPT-2 is a predecessor of GPT-3 (ChatGPT, GPT-4), ... released by OpenAI in 2019.\n",
        "\n",
        "![](https://drive.google.com/uc?export=view&id=1ZsTdVzwP0dm_T2iq1_suDq8ogYxD4x82)\n",
        "\n",
        "GPT-2 comes in different sizes, and today we will use the smallest version, GPT-2 Small with 117M parameters.\n",
        "\n",
        "* Note: GPT-3 Davinci has 175B parameters!"
      ],
      "metadata": {
        "id": "b-IZqgh33r-Z"
      }
    },
    {
      "cell_type": "markdown",
      "source": [
        "\n",
        "Pretrained Models such as GPT-2 can be downloaded from [Huggingface Model Hub](https://huggingface.co/).\n",
        "\n",
        "Below, we prepared a high-level interface to play with GPT-2. You don't have to understand this code line by line, stay tuned for next tutorial on Torch / Huggingface!\n",
        "\n",
        "**NOTE: Change Colab resources to T4 GPU**"
      ],
      "metadata": {
        "id": "TlFxlWSrEnjt"
      }
    },
    {
      "cell_type": "markdown",
      "source": [
        "\n",
        "### High-level Interface"
      ],
      "metadata": {
        "id": "bjaVuq0S9Pah"
      }
    },
    {
      "cell_type": "code",
      "source": [
        "import torch\n",
        "from transformers import AutoTokenizer, AutoModelForCausalLM\n",
        "\n",
        "class GPT2:\n",
        "  def __init__(self):\n",
        "    self.tokenizer = AutoTokenizer.from_pretrained(\"gpt2\")\n",
        "    self.token_list = self.tokenizer.convert_ids_to_tokens(range(len(self.tokenizer)))\n",
        "\n",
        "    self.model = AutoModelForCausalLM.from_pretrained(\"gpt2\").cuda()\n",
        "    self.model.eval()\n",
        "\n",
        "  def compute_likelihood(self, text: str):\n",
        "    inputs = self.tokenizer(text, return_tensors=\"pt\").to(self.model.device)\n",
        "\n",
        "    with torch.no_grad():\n",
        "      outputs = self.model(**inputs, labels=inputs.input_ids)\n",
        "\n",
        "    return torch.exp(-outputs.loss * (inputs.input_ids.size(-1) - 1)).item()\n",
        "\n",
        "  def tokenize(self, text: str):\n",
        "    tokenized_sequence = self.tokenizer.convert_ids_to_tokens(\n",
        "        self.tokenizer(text).input_ids\n",
        "    )\n",
        "\n",
        "    return tokenized_sequence\n",
        "\n",
        "  def add_new_token(self, previous_text: str, new_token: str):\n",
        "    previous_input_ids = self.tokenizer(previous_text).input_ids\n",
        "    new_token_id = self.tokenizer.convert_tokens_to_ids(new_token)\n",
        "\n",
        "    new_input_ids = previous_input_ids + [new_token_id]\n",
        "    new_text = self.tokenizer.decode(new_input_ids)\n",
        "\n",
        "    return new_text\n",
        "\n",
        "  def compute_next_token_distribution(self, text: str):\n",
        "    inputs = self.tokenizer(text, return_tensors=\"pt\").to(self.model.device)\n",
        "    with torch.no_grad():\n",
        "      last_token_logits = self.model(**inputs).logits[0, -1, :]\n",
        "      probabilities = torch.softmax(last_token_logits, dim=-1)\n",
        "\n",
        "    return {\n",
        "        token: prob\n",
        "        for token, prob in zip(self.token_list, probabilities)\n",
        "    }\n",
        "\n",
        "\n",
        "gpt2 = GPT2()"
      ],
      "metadata": {
        "id": "O-LWUdjBCxdJ",
        "colab": {
          "base_uri": "https://localhost:8080/",
          "height": 333,
          "referenced_widgets": [
            "6275c708516f467099dc7f61b84d2df7",
            "b6d92d64c99043f7af2a1b8c8faa818c",
            "7d83c1eae01c4b9ea8a81d278ba18dcf",
            "159f750ac87d47eda4872ec4fced4ee6",
            "c8d0bca293db43be90af11370d21e425",
            "5ffdbc3b4a7342ecb8c2f0d7e19f3370",
            "282d7590a1a048f29b9bf48e10032aa2",
            "b08f57b49abd4399ad5cd7cf3af8127a",
            "0d9acad9238d4156ae7ede36b8b68df4",
            "81e494087bdb4e55a4c6823736be6291",
            "845c81b90ba44bc2aadb005368a82d9e",
            "79a7b2266e66407b8abff0ad9ece6829",
            "10a061c5769f46f883c9401d101451f8",
            "1138ee932f2b4a8c895458891009ee32",
            "afdc45dd00e444c696858c630d7560e7",
            "3c3216c4281341d4aa631a68ad9f22db",
            "f73546c073f1407f8e24edbf9320238d",
            "b99bf660979f419a978632aab169de61",
            "c002ba32968941ae84f8cd2a3787fdbb",
            "89ecc662a712484aafaaa90a99e1b3e9",
            "f1ef79ba777340f9a905854190d1af9b",
            "5df6c51b6c9e44c0b5dda2c53e4aef7e",
            "ecc81ce6f94d4c7fb975afb6b6cfb93e",
            "021875a87cbf4f959f88eaa3251bb509",
            "a25debc712d84420a22b676daf9af9d6",
            "354a119c41764915bf2f0d07800a9c3a",
            "66ce4b8292274bf5a5b39da8cc573973",
            "08a05bdd5d40408080d3981db91e7f97",
            "67025c11e7fd405ebfc7a4a3f5094b14",
            "73f8df6c66594659916167602e1e65a1",
            "d022cec5c1034e6096e72ac72aee7d55",
            "3a4045d95f1345978042d5a99bd328e0",
            "bc54dc5809e74096927317fd029f9b89",
            "23178c8e1b4a4df181c9393268507364",
            "59b2340a755b4e12a26b72462f22cb01",
            "630493bd41464a468e3ec9a065e25e93",
            "9a70a2c1a82446c282e3d7c1df8c3d46",
            "065006c831124b1daba3351c15d046a4",
            "07b8cf70b1e64b6d982141b5a6f5c908",
            "cca3bb88ff0049c19fa458ffd15cb5ec",
            "9731f9517fc1475ea9e0ce9608193ad5",
            "471fbdbafadb403a984cbd45471aae21",
            "ec2da098d3b74e8697458dcd773391c1",
            "b6b8610f90904808adf87e98d1a94db1",
            "af927f24da674d928fd1effb40599a34",
            "ade29bf8255c4eeda61b081260200c40",
            "b606e911d96b4c348b399730d40dee67",
            "4c2ebfde607148299dc2fadbba12416b",
            "7134de85add44b67a54fb9cea05981bd",
            "0c5431075d624afe889ea1fc002ccd82",
            "6a7ac75376f64362acd706cd9d535dff",
            "1165ccf8484a46968b328f98bb5b463c",
            "f0ea1bb87d7a4deaa2045b5d4e85195e",
            "d353e34e400141ef80ef719ba79abb89",
            "ecfed1799b304d7885753fa0398dbb98",
            "9acc9872c0c14f91871187cd1d4936b9",
            "817f9260474c45c9a862b5f4d7642441",
            "3900ca32ae6746d1aa3e8d43b60dbdc1",
            "d5fb7d393689468a946e9e97e37968d6",
            "3e44fac3e65745b99100b879ecabc7be",
            "62e62f6883a84f23b83a95779e3f94b0",
            "bd5ffa7b16a5430ca299281aed739332",
            "ca3309b4438345cab2cb19290b47c5ed",
            "9fd46d2075da42fc8b3086294a068bc3",
            "4a50e1f990c449de8a8774d7d3482026",
            "bce8e7ebd07d456998ab5012f770f664"
          ]
        },
        "outputId": "fb65511a-9db1-4f0a-f7f7-0222bf5f98e0"
      },
      "execution_count": null,
      "outputs": [
        {
          "output_type": "stream",
          "name": "stderr",
          "text": [
            "/usr/local/lib/python3.10/dist-packages/huggingface_hub/utils/_token.py:88: UserWarning: \n",
            "The secret `HF_TOKEN` does not exist in your Colab secrets.\n",
            "To authenticate with the Hugging Face Hub, create a token in your settings tab (https://huggingface.co/settings/tokens), set it as secret in your Google Colab and restart your session.\n",
            "You will be able to reuse this secret in all of your notebooks.\n",
            "Please note that authentication is recommended but still optional to access public models or datasets.\n",
            "  warnings.warn(\n"
          ]
        },
        {
          "output_type": "display_data",
          "data": {
            "text/plain": [
              "config.json:   0%|          | 0.00/665 [00:00<?, ?B/s]"
            ],
            "application/vnd.jupyter.widget-view+json": {
              "version_major": 2,
              "version_minor": 0,
              "model_id": "6275c708516f467099dc7f61b84d2df7"
            }
          },
          "metadata": {}
        },
        {
          "output_type": "display_data",
          "data": {
            "text/plain": [
              "vocab.json:   0%|          | 0.00/1.04M [00:00<?, ?B/s]"
            ],
            "application/vnd.jupyter.widget-view+json": {
              "version_major": 2,
              "version_minor": 0,
              "model_id": "79a7b2266e66407b8abff0ad9ece6829"
            }
          },
          "metadata": {}
        },
        {
          "output_type": "display_data",
          "data": {
            "text/plain": [
              "merges.txt:   0%|          | 0.00/456k [00:00<?, ?B/s]"
            ],
            "application/vnd.jupyter.widget-view+json": {
              "version_major": 2,
              "version_minor": 0,
              "model_id": "ecc81ce6f94d4c7fb975afb6b6cfb93e"
            }
          },
          "metadata": {}
        },
        {
          "output_type": "display_data",
          "data": {
            "text/plain": [
              "tokenizer.json:   0%|          | 0.00/1.36M [00:00<?, ?B/s]"
            ],
            "application/vnd.jupyter.widget-view+json": {
              "version_major": 2,
              "version_minor": 0,
              "model_id": "23178c8e1b4a4df181c9393268507364"
            }
          },
          "metadata": {}
        },
        {
          "output_type": "display_data",
          "data": {
            "text/plain": [
              "model.safetensors:   0%|          | 0.00/548M [00:00<?, ?B/s]"
            ],
            "application/vnd.jupyter.widget-view+json": {
              "version_major": 2,
              "version_minor": 0,
              "model_id": "af927f24da674d928fd1effb40599a34"
            }
          },
          "metadata": {}
        },
        {
          "output_type": "display_data",
          "data": {
            "text/plain": [
              "generation_config.json:   0%|          | 0.00/124 [00:00<?, ?B/s]"
            ],
            "application/vnd.jupyter.widget-view+json": {
              "version_major": 2,
              "version_minor": 0,
              "model_id": "9acc9872c0c14f91871187cd1d4936b9"
            }
          },
          "metadata": {}
        }
      ]
    },
    {
      "cell_type": "markdown",
      "source": [
        "### Computing likelihood of sequence using LM\n",
        "\n",
        "\n",
        "Since GPT-2 models text distribution, you can measure the likelihood of whatever text you give as input.\n",
        "\n",
        "### Exercise: Try to find a sentence with higher likelihood that starts with \"Hi,\"."
      ],
      "metadata": {
        "id": "ocYmiMZVUrYv"
      }
    },
    {
      "cell_type": "code",
      "source": [
        "likely_sentence = \"Hi, what's up?\"\n",
        "unlikely_sentence = \"Hi, bye you are!\"\n",
        "\n",
        "print(f\"Likelihood of {likely_sentence}: {gpt2.compute_likelihood(likely_sentence)}\")\n",
        "print(f\"Likelihood of {unlikely_sentence}: {gpt2.compute_likelihood(unlikely_sentence)}\")"
      ],
      "metadata": {
        "colab": {
          "base_uri": "https://localhost:8080/"
        },
        "id": "z5UtEk2qEebz",
        "outputId": "63f70412-f03c-45fe-d174-688536a8d494"
      },
      "execution_count": null,
      "outputs": [
        {
          "output_type": "stream",
          "name": "stdout",
          "text": [
            "Likelihood of Hi, what's up?: 3.324063300169655e-06\n",
            "Likelihood of Hi, bye you are!: 1.0171533754155249e-11\n"
          ]
        }
      ]
    },
    {
      "cell_type": "markdown",
      "source": [
        "### What's happening under the hood?\n",
        "\n",
        "To calculate the probability of a sequence, we use the **chain rule** to break down the probability into the product of conditional probabilities, one for each token.\n",
        "\n",
        "Recall that for two events A and B, the chain rule states that\n",
        "\n",
        "$$P(A\\cap B)=P(B\\mid A)P(A)$$\n",
        "\n",
        "In words, the probability of event $A$ and event $B$ happening is calculated as the probability of $A$ happening, times the probability of $B$ happening given that $A$ happened.\n",
        "\n",
        "Applying this to language modeling, you can think of each event as a particular token being generated at a particular index. So, the probability of a text $x_1,x_2,...,x_n$ would be given by\n",
        "\n",
        "$$P(x_1,x_2,...,x_n)=P(x_1)\\cdot P(x_2\\mid x_1)\\cdot P(x_3\\mid x_1,x_2)\\cdots P(x_n\\mid x_1,...,x_{n-1})=\\prod_{t=1}^n P(x_t\\mid x_{<t})$$\n",
        "\n",
        "In summary, we decompose the probability of a text into the conditional probability of each token given the previous context."
      ],
      "metadata": {
        "id": "96_ySo0LelbU"
      }
    },
    {
      "cell_type": "markdown",
      "source": [
        "Let's look at a step-by-step example for computing the likelihood of a given sentence using the chain rule. Note that \"Ġ\" just corresponds to a space at the beginning of tokens."
      ],
      "metadata": {
        "id": "-fVwj2BYfBqP"
      }
    },
    {
      "cell_type": "code",
      "source": [
        "sentence = \"Hi, how are you?\"\n",
        "token_sequences = gpt2.tokenize(sentence)\n",
        "\n",
        "print(f'These are the tokens in \"{sentence}\": {token_sequences}')"
      ],
      "metadata": {
        "id": "neRQREqgGamx",
        "colab": {
          "base_uri": "https://localhost:8080/"
        },
        "outputId": "8f0cfad6-c58d-4ec8-9e07-91bce020fa44"
      },
      "execution_count": null,
      "outputs": [
        {
          "output_type": "stream",
          "name": "stdout",
          "text": [
            "These are the tokens in \"Hi, how are you?\": ['Hi', ',', 'Ġhow', 'Ġare', 'Ġyou', '?']\n"
          ]
        }
      ]
    },
    {
      "cell_type": "code",
      "source": [
        "import math\n",
        "\n",
        "sequence_so_far = \"Hi\"  # the beginning-of-sequence token\n",
        "likelihood_list = []\n",
        "\n",
        "for i, token in enumerate(token_sequences[1:]):\n",
        "  next_token_distribution = gpt2.compute_next_token_distribution(sequence_so_far)\n",
        "  likelihood = next_token_distribution[token]\n",
        "  likelihood_list.append(likelihood)\n",
        "\n",
        "  print(f\"P({token.replace('Ġ', '')}|{sequence_so_far}) = {likelihood}\")\n",
        "\n",
        "  sequence_so_far = gpt2.add_new_token(sequence_so_far, token)\n",
        "\n",
        "print()\n",
        "print(f\"P({sequence_so_far}) = {math.prod(likelihood_list)}\")"
      ],
      "metadata": {
        "colab": {
          "base_uri": "https://localhost:8080/"
        },
        "id": "apuuIo46XZqc",
        "outputId": "8008ec5e-fcba-4a28-fd09-4a96c69ccbe7"
      },
      "execution_count": null,
      "outputs": [
        {
          "output_type": "stream",
          "name": "stdout",
          "text": [
            "P(,|Hi) = 0.06419573724269867\n",
            "P(how|Hi,) = 0.008142274804413319\n",
            "P(are|Hi, how) = 0.05635732412338257\n",
            "P(you|Hi, how are) = 0.663574755191803\n",
            "P(?|Hi, how are you) = 0.14008843898773193\n",
            "\n",
            "P(Hi, how are you?) = 2.7383846372686094e-06\n"
          ]
        }
      ]
    },
    {
      "cell_type": "markdown",
      "source": [
        "A small caveat: note that the probability we just computed is technically not the probability of the whole sequence, since we exclude the first token! In practice, language models are only trained to start predicting the second token given the first, and so on."
      ],
      "metadata": {
        "id": "O3XRqIbk7i34"
      }
    },
    {
      "cell_type": "markdown",
      "source": [
        "### Generating text with greedy decoding\n",
        "Because LMs predict the probability distribution over the vocabulary for the next-word, we can actually use it to do more than score the probability of a given text — we can use it to generate _novel_ text!\n",
        "\n",
        "First let's consider **greedy decoding**. As the name suggests, this strategy greedily takes the _most likely_ next-token predicted by the LM at each time step."
      ],
      "metadata": {
        "id": "ErlBvNZLWErr"
      }
    },
    {
      "cell_type": "code",
      "source": [
        "sequence_so_far = \"Hi\"\n",
        "step = 1"
      ],
      "metadata": {
        "id": "w0dC3FRciknp"
      },
      "execution_count": null,
      "outputs": []
    },
    {
      "cell_type": "markdown",
      "source": [
        "Run the next cell many times to generate text, one token at a time!"
      ],
      "metadata": {
        "id": "-SWFmZhhimZe"
      }
    },
    {
      "cell_type": "code",
      "source": [
        "print(f'Step {step}')\n",
        "next_token_distribution = gpt2.compute_next_token_distribution(sequence_so_far)\n",
        "next_token, token_prob = max(next_token_distribution.items(), key=lambda x: x[1])  # choose the token with largest probability\n",
        "\n",
        "print(f\"Argmax token: {next_token}, Probability: {token_prob}\")\n",
        "\n",
        "sequence_so_far = gpt2.add_new_token(sequence_so_far, next_token)\n",
        "print(sequence_so_far)\n",
        "step += 1"
      ],
      "metadata": {
        "colab": {
          "base_uri": "https://localhost:8080/"
        },
        "id": "1T77jKznXecb",
        "outputId": "228f5af0-fc0e-470c-d9dd-8312d80bc2a6"
      },
      "execution_count": null,
      "outputs": [
        {
          "output_type": "stream",
          "name": "stdout",
          "text": [
            "Step 4\n",
            "Argmax token: Ġsorry, Probability: 0.08845137059688568\n",
            "Hi. I'm sorry\n"
          ]
        }
      ]
    },
    {
      "cell_type": "markdown",
      "source": [
        "### Sampling\n",
        "\n",
        "In practice, greedy decoding is often not the best way to generate text. Oftentimes we wish to produce many **diverse** outputs for the same input!\n",
        "\n",
        "Therefore, another generation strategy is to _sample_ from the predicted probability distribution rather than always predicting the most-likely token. Recall that a good LM should assign higher probability to reasonable next-tokens than those that are very unlikely to occur next in the current context."
      ],
      "metadata": {
        "id": "HculCnZGjMxs"
      }
    },
    {
      "cell_type": "code",
      "source": [
        "sequence_so_far = \"Hi\"\n",
        "step = 1"
      ],
      "metadata": {
        "id": "pUZiP-KPixuY"
      },
      "execution_count": null,
      "outputs": []
    },
    {
      "cell_type": "markdown",
      "source": [
        "To sample generations instead, we just need to change our `max` function into sampling from categorical distribution, using `torch.multinomial`!"
      ],
      "metadata": {
        "id": "KMzKHx2FkXc8"
      }
    },
    {
      "cell_type": "code",
      "source": [
        "print(f'Step {step}')\n",
        "next_token_distribution = gpt2.compute_next_token_distribution(sequence_so_far)\n",
        "next_token_probs = torch.Tensor(list(next_token_distribution.values()))\n",
        "next_token_id = torch.multinomial(next_token_probs, 1)\n",
        "next_token = gpt2.token_list[next_token_id]\n",
        "token_prob = next_token_distribution[next_token]\n",
        "\n",
        "print(f\"Argmax token: {next_token}, Probability: {token_prob}\")\n",
        "\n",
        "sequence_so_far = gpt2.add_new_token(sequence_so_far, next_token)\n",
        "print(sequence_so_far)\n",
        "step += 1"
      ],
      "metadata": {
        "colab": {
          "base_uri": "https://localhost:8080/"
        },
        "id": "ulW3n3V1kV3r",
        "outputId": "1b032f21-3670-4984-f875-fa80ee6262e6"
      },
      "execution_count": null,
      "outputs": [
        {
          "output_type": "stream",
          "name": "stdout",
          "text": [
            "Step 3\n",
            "Argmax token: Ġputting, Probability: 0.00012229886488057673\n",
            "Hi to everyone putting\n"
          ]
        }
      ]
    },
    {
      "cell_type": "markdown",
      "source": [
        "This time, try starting over and generating your sequence again. You should be able to get a different text sequence each time (at least with enough time steps)!"
      ],
      "metadata": {
        "id": "ncAlHIIblhZa"
      }
    },
    {
      "cell_type": "markdown",
      "source": [
        "### Concluding notes on generation\n",
        "\n",
        "Greedy decoding and sampling are just two of many, many ways to decode text from the next-token probability distributions of language models, and is an active area of research. The optimal decoding strategy may depend on various factors, like the goal of the generation (accuracy or creativity?), the desired style (how can we steer LMs to be less toxic?), or any number of other constraints (how can we ensure that this set of words appear, but other ones do not?).\n",
        "\n",
        "If this direction interests you, feel free to brainstorm about potential decoding strategies you might explore for the final project!"
      ],
      "metadata": {
        "id": "ZM2VF9o3maQO"
      }
    }
  ]
}